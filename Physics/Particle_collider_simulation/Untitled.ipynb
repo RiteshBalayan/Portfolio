{
 "cells": [
  {
   "cell_type": "code",
   "execution_count": 1,
   "id": "c09b41bc",
   "metadata": {},
   "outputs": [],
   "source": [
    "import numpy as np"
   ]
  },
  {
   "cell_type": "code",
   "execution_count": 2,
   "id": "58cee0b5",
   "metadata": {},
   "outputs": [],
   "source": [
    "#function to create numpy array from csv file\n",
    "def import_csv_as_array(file_path):\n",
    "    return np.genfromtxt(file_path, delimiter=',')"
   ]
  },
  {
   "cell_type": "code",
   "execution_count": 3,
   "id": "b87576df",
   "metadata": {},
   "outputs": [],
   "source": [
    "#Defining 4 relevant csv file\n",
    "thin_shield = import_csv_as_array('output_thin_Shield.csv')\n",
    "thick_shield = import_csv_as_array('output_thick_Shield.csv')\n",
    "object_case1 = import_csv_as_array('output_thin_Target.csv')\n",
    "object_case2 = import_csv_as_array('output_thick_Target.csv')"
   ]
  },
  {
   "cell_type": "code",
   "execution_count": 4,
   "id": "4807b0a0",
   "metadata": {},
   "outputs": [],
   "source": [
    "#Ratio of energy deposit on object to shield\n",
    "Energy_deposit_1 = object_case1/thin_shield\n",
    "Energy_deposit_2 = object_case2/thick_shield"
   ]
  },
  {
   "cell_type": "code",
   "execution_count": 5,
   "id": "16746e33",
   "metadata": {},
   "outputs": [],
   "source": [
    "#converting numpy array to list\n",
    "list_1 = Energy_deposit_1.tolist()\n",
    "list_2 = Energy_deposit_2.tolist()"
   ]
  },
  {
   "cell_type": "code",
   "execution_count": 6,
   "id": "9498f9e9",
   "metadata": {},
   "outputs": [],
   "source": [
    "#defining the function to take average\n",
    "def average(lst):\n",
    "    return sum(lst) / len(lst)"
   ]
  },
  {
   "cell_type": "code",
   "execution_count": 7,
   "id": "cb081917",
   "metadata": {},
   "outputs": [],
   "source": [
    "#finding average of energy deposit ratio\n",
    "avg1=average(list_1)\n",
    "avg2=average(list_2)"
   ]
  },
  {
   "cell_type": "code",
   "execution_count": 9,
   "id": "0dc0b033",
   "metadata": {},
   "outputs": [
    {
     "name": "stdout",
     "output_type": "stream",
     "text": [
      "2.0 cm lead shield 0.761 ratio of energy, and 4.0 cm lead shield 0.9746 ratio of energy\n"
     ]
    }
   ],
   "source": [
    "print(f\"2.0 cm lead shield {1-avg1:.4} ratio of energy, and 4.0 cm lead shield {1-avg2:.4} ratio of energy\")"
   ]
  },
  {
   "cell_type": "code",
   "execution_count": null,
   "id": "c4f18a69",
   "metadata": {},
   "outputs": [],
   "source": []
  }
 ],
 "metadata": {
  "kernelspec": {
   "display_name": "Python 3 (ipykernel)",
   "language": "python",
   "name": "python3"
  },
  "language_info": {
   "codemirror_mode": {
    "name": "ipython",
    "version": 3
   },
   "file_extension": ".py",
   "mimetype": "text/x-python",
   "name": "python",
   "nbconvert_exporter": "python",
   "pygments_lexer": "ipython3",
   "version": "3.9.13"
  }
 },
 "nbformat": 4,
 "nbformat_minor": 5
}
