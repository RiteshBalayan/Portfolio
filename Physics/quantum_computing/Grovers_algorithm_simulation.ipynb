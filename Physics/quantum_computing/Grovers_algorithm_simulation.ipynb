{
 "cells": [
  {
   "cell_type": "code",
   "execution_count": 93,
   "id": "85dc721c",
   "metadata": {},
   "outputs": [],
   "source": [
    "import numpy as np"
   ]
  },
  {
   "cell_type": "code",
   "execution_count": 213,
   "id": "7ed4de68",
   "metadata": {},
   "outputs": [],
   "source": [
    "#convert a given number of state, with kth target. Make N vectors accordingle\n",
    "def write_vectors(n,k):\n",
    "    vectors =np.array([np.array([0,1]) for i in range(n)])\n",
    "    vectors[k] = np.array([1,0])\n",
    "    return vectors"
   ]
  },
  {
   "cell_type": "code",
   "execution_count": 214,
   "id": "ff59996a",
   "metadata": {},
   "outputs": [],
   "source": [
    "# State needs to be tensor product before we can use matrix product\n",
    "def tensor_product(vectors):\n",
    "    result = np.array([1])\n",
    "    for v in vectors:\n",
    "        result = np.kron(result, v)\n",
    "    return result"
   ]
  },
  {
   "cell_type": "code",
   "execution_count": null,
   "id": "f42efdab",
   "metadata": {},
   "outputs": [],
   "source": []
  },
  {
   "cell_type": "code",
   "execution_count": 215,
   "id": "14b1bbe7",
   "metadata": {},
   "outputs": [],
   "source": [
    "#Define tensor product of n simar gates, we need this function for hadmard product\n",
    "def Hadmard_product(A, n):\n",
    "    result = np.array([[1]])\n",
    "    for i in range(n):\n",
    "        result = np.kron(result, A)\n",
    "    return result"
   ]
  },
  {
   "cell_type": "code",
   "execution_count": 216,
   "id": "5c31d749",
   "metadata": {},
   "outputs": [],
   "source": [
    "#This will make oracle matrix, given n state and kth target\n",
    "def make_oracle(n, k,state):\n",
    "    I = np.identity(2**n)\n",
    "    v = np.zeros(2**n)\n",
    "    v[np.argmax(state)] = 1\n",
    "    return -2 * np.outer(v, v) + I"
   ]
  },
  {
   "cell_type": "code",
   "execution_count": 217,
   "id": "57bf13cc",
   "metadata": {},
   "outputs": [],
   "source": [
    "def grover(N, target):\n",
    "\n",
    "    H = (1 / np.sqrt(2)) * np.array([[1, 1], [1, -1]])\n",
    "    \n",
    "    V = write_vectors(N,target)\n",
    "    state = tensor_product(V)\n",
    "    M = np.argmax(state)\n",
    "    \n",
    "    H_tensor = Hadmard_product(H, N)   \n",
    "    oracle_tensor=make_oracle(N, target,state)\n",
    "    \n",
    "    state = np.dot(H_tensor, state)\n",
    "    \n",
    "    i = 0\n",
    "    while np.max(np.abs(state*state))<0.95:  \n",
    "        state_min_1 =state\n",
    "        state = np.dot(oracle_tensor,state)\n",
    "        state = state - 2 * np.dot(state, state_min_1) / np.dot(state_min_1, state_min_1) * state_min_1 \n",
    "        i += 1\n",
    "    result = np.sqrt(np.sum(np.square(state)))\n",
    "    return i,M,np.argmax(np.abs(state)),max(state*state),result"
   ]
  },
  {
   "cell_type": "code",
   "execution_count": 225,
   "id": "225eedf9",
   "metadata": {},
   "outputs": [
    {
     "data": {
      "text/plain": [
       "(6, 119, 119, 0.9864538635009666, 0.9999999999999994)"
      ]
     },
     "execution_count": 225,
     "metadata": {},
     "output_type": "execute_result"
    }
   ],
   "source": [
    "grover(7,3)"
   ]
  },
  {
   "cell_type": "code",
   "execution_count": null,
   "id": "a05b01d5",
   "metadata": {},
   "outputs": [],
   "source": []
  }
 ],
 "metadata": {
  "kernelspec": {
   "display_name": "Python 3 (ipykernel)",
   "language": "python",
   "name": "python3"
  },
  "language_info": {
   "codemirror_mode": {
    "name": "ipython",
    "version": 3
   },
   "file_extension": ".py",
   "mimetype": "text/x-python",
   "name": "python",
   "nbconvert_exporter": "python",
   "pygments_lexer": "ipython3",
   "version": "3.9.13"
  }
 },
 "nbformat": 4,
 "nbformat_minor": 5
}
