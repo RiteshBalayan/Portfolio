{
 "cells": [
  {
   "cell_type": "code",
   "execution_count": 1,
   "id": "e11695f9",
   "metadata": {},
   "outputs": [],
   "source": [
    "import numpy as np\n",
    "import matplotlib.pyplot as plt\n",
    "import math\n",
    "from scipy.integrate import quad\n",
    "from iminuit import Minuit"
   ]
  },
  {
   "cell_type": "markdown",
   "id": "aee38d3f",
   "metadata": {},
   "source": [
    "# Importing and visualising Data"
   ]
  },
  {
   "cell_type": "code",
   "execution_count": 2,
   "id": "475ad62e",
   "metadata": {},
   "outputs": [],
   "source": [
    "dat = np.genfromtxt(fname='datafile-higgs.txt')"
   ]
  },
  {
   "cell_type": "code",
   "execution_count": 3,
   "id": "0f34f5b2",
   "metadata": {},
   "outputs": [
    {
     "data": {
      "text/plain": [
       "numpy.ndarray"
      ]
     },
     "execution_count": 3,
     "metadata": {},
     "output_type": "execute_result"
    }
   ],
   "source": [
    "type(dat)"
   ]
  },
  {
   "cell_type": "code",
   "execution_count": 4,
   "id": "8410a875",
   "metadata": {},
   "outputs": [
    {
     "data": {
      "text/plain": [
       "array([7.83638931, 2.63155278, 0.85325719, ..., 6.02879738, 0.76266385,\n",
       "       0.94014184])"
      ]
     },
     "execution_count": 4,
     "metadata": {},
     "output_type": "execute_result"
    }
   ],
   "source": [
    "dat"
   ]
  },
  {
   "cell_type": "code",
   "execution_count": 5,
   "id": "1a1ac572",
   "metadata": {},
   "outputs": [
    {
     "data": {
      "image/png": "[encoded data removed]",
      "text/plain": [
       "<Figure size 640x480 with 1 Axes>"
      ]
     },
     "metadata": {},
     "output_type": "display_data"
    }
   ],
   "source": [
    "plt.hist(dat,bins=100)\n",
    "plt.show()"
   ]
  },
  {
   "cell_type": "code",
   "execution_count": 8,
   "id": "956fee22",
   "metadata": {},
   "outputs": [
    {
     "name": "stdout",
     "output_type": "stream",
     "text": [
      "total # of events = 341785.14540157386 # of bins = 100000\n"
     ]
    },
    {
     "data": {
      "image/png": "[encoded data removed]",
      "text/plain": [
       "<Figure size 640x480 with 1 Axes>"
      ]
     },
     "metadata": {},
     "output_type": "display_data"
    }
   ],
   "source": [
    "nbins = len(counts)\n",
    "XMIN = 0  # in GeV\n",
    "XMAX = 10  # in GeV\n",
    "\n",
    "bins = np.linspace(XMIN, XMAX, nbins)\n",
    "counts = dat\n",
    "\n",
    "tot = 0\n",
    "for i in counts:\n",
    "    tot += i\n",
    "print(\"total # of events =\", tot, \"# of bins =\", len(counts))\n",
    "plt.hist(bins, bins=len(counts), weights=counts, range=(min(bins), max(bins)))\n",
    "plt.show()"
   ]
  },
  {
   "cell_type": "markdown",
   "id": "23fed7d3",
   "metadata": {},
   "source": [
    "# Question 1 (fitting data with exponential noise)"
   ]
  },
  {
   "cell_type": "markdown",
   "id": "f6c7548c",
   "metadata": {},
   "source": [
    "Defining normalised exponential function"
   ]
  },
  {
   "cell_type": "code",
   "execution_count": 4,
   "id": "1f2aef51",
   "metadata": {},
   "outputs": [],
   "source": [
    "def exp_funct(x,decay_cons):\n",
    "    exponential = lambda x: np.exp(-x/decay_cons)\n",
    "\n",
    "    return np.exp(-x/decay_cons)/quad(exponential,0,10)[0]"
   ]
  },
  {
   "cell_type": "markdown",
   "id": "4f799560",
   "metadata": {},
   "source": [
    "Defining normalised gaussian function"
   ]
  },
  {
   "cell_type": "code",
   "execution_count": 5,
   "id": "6b2ffa99",
   "metadata": {},
   "outputs": [],
   "source": [
    "def gauss_funct(x,mean):\n",
    "    def gauss(x,mean):\n",
    "          return (1/(0.2*((2*math.pi)**(1/2)))*math.e**((-1/2)*((x-mean)/0.2)**2))\n",
    "    def nor_gauss(x):\n",
    "        return quad(gauss,0,10,args=(mean))\n",
    "    return gauss(x,mean)/nor_gauss(x)[0]"
   ]
  },
  {
   "cell_type": "markdown",
   "id": "79b45ac2",
   "metadata": {},
   "source": [
    "Defining negative log joint likelihood function for (gaussian signal on exponential backgrown)"
   ]
  },
  {
   "cell_type": "code",
   "execution_count": 6,
   "id": "590a9ce7",
   "metadata": {},
   "outputs": [],
   "source": [
    "def fnct1(decay_cons,mean,fraction):\n",
    "    pdf = fraction*gauss_funct(dat,mean)+(1-fraction)*exp_funct(dat,decay_cons)\n",
    "    return -np.sum(np.log(pdf))"
   ]
  },
  {
   "cell_type": "markdown",
   "id": "456a697c",
   "metadata": {},
   "source": [
    "Minimising NLL to find optimal parameters"
   ]
  },
  {
   "cell_type": "code",
   "execution_count": 7,
   "id": "6e1bb3b3",
   "metadata": {},
   "outputs": [
    {
     "data": {
      "text/html": [
       "<table>\n",
       "    <tr>\n",
       "        <th colspan=\"5\" style=\"text-align:center\" title=\"Minimizer\"> Migrad </th>\n",
       "    </tr>\n",
       "    <tr>\n",
       "        <td colspan=\"2\" style=\"text-align:left\" title=\"Minimum value of function\"> FCN = 2.146e+05 </td>\n",
       "        <td colspan=\"3\" style=\"text-align:center\" title=\"Total number of function and (optional) gradient evaluations\"> Nfcn = 116 </td>\n",
       "    </tr>\n",
       "    <tr>\n",
       "        <td colspan=\"2\" style=\"text-align:left\" title=\"Estimated distance to minimum and goal\"> EDM = 6.29e-07 (Goal: 0.0001) </td>\n",
       "        <td colspan=\"3\" style=\"text-align:center\" title=\"Total run time of algorithms\"> time = 1.6 sec </td>\n",
       "    </tr>\n",
       "    <tr>\n",
       "        <td colspan=\"2\" style=\"text-align:center;background-color:#92CCA6;color:black\"> Valid Minimum </td>\n",
       "        <td colspan=\"3\" style=\"text-align:center;background-color:#92CCA6;color:black\"> No Parameters at limit </td>\n",
       "    </tr>\n",
       "    <tr>\n",
       "        <td colspan=\"2\" style=\"text-align:center;background-color:#92CCA6;color:black\"> Below EDM threshold (goal x 10) </td>\n",
       "        <td colspan=\"3\" style=\"text-align:center;background-color:#92CCA6;color:black\"> Below call limit </td>\n",
       "    </tr>\n",
       "    <tr>\n",
       "        <td style=\"text-align:center;background-color:#92CCA6;color:black\"> Covariance </td>\n",
       "        <td style=\"text-align:center;background-color:#92CCA6;color:black\"> Hesse ok </td>\n",
       "        <td style=\"text-align:center;background-color:#92CCA6;color:black\" title=\"Is covariance matrix accurate?\"> Accurate </td>\n",
       "        <td style=\"text-align:center;background-color:#92CCA6;color:black\" title=\"Is covariance matrix positive definite?\"> Pos. def. </td>\n",
       "        <td style=\"text-align:center;background-color:#92CCA6;color:black\" title=\"Was positive definiteness enforced by Minuit?\"> Not forced </td>\n",
       "    </tr>\n",
       "</table><table>\n",
       "    <tr>\n",
       "        <td></td>\n",
       "        <th title=\"Variable name\"> Name </th>\n",
       "        <th title=\"Value of parameter\"> Value </th>\n",
       "        <th title=\"Hesse error\"> Hesse Error </th>\n",
       "        <th title=\"Minos lower error\"> Minos Error- </th>\n",
       "        <th title=\"Minos upper error\"> Minos Error+ </th>\n",
       "        <th title=\"Lower limit of the parameter\"> Limit- </th>\n",
       "        <th title=\"Upper limit of the parameter\"> Limit+ </th>\n",
       "        <th title=\"Is the parameter fixed in the fit\"> Fixed </th>\n",
       "    </tr>\n",
       "    <tr>\n",
       "        <th> 0 </th>\n",
       "        <td> decay_cons </td>\n",
       "        <td> 5.008 </td>\n",
       "        <td> 0.031 </td>\n",
       "        <td>  </td>\n",
       "        <td>  </td>\n",
       "        <td>  </td>\n",
       "        <td>  </td>\n",
       "        <td>  </td>\n",
       "    </tr>\n",
       "    <tr>\n",
       "        <th> 1 </th>\n",
       "        <td> mean </td>\n",
       "        <td> 2.499 </td>\n",
       "        <td> 0.015 </td>\n",
       "        <td>  </td>\n",
       "        <td>  </td>\n",
       "        <td>  </td>\n",
       "        <td>  </td>\n",
       "        <td>  </td>\n",
       "    </tr>\n",
       "    <tr>\n",
       "        <th> 2 </th>\n",
       "        <td> fraction </td>\n",
       "        <td> 0.0204 </td>\n",
       "        <td> 0.0012 </td>\n",
       "        <td>  </td>\n",
       "        <td>  </td>\n",
       "        <td>  </td>\n",
       "        <td>  </td>\n",
       "        <td>  </td>\n",
       "    </tr>\n",
       "</table><table>\n",
       "    <tr>\n",
       "        <td></td>\n",
       "        <th> decay_cons </th>\n",
       "        <th> mean </th>\n",
       "        <th> fraction </th>\n",
       "    </tr>\n",
       "    <tr>\n",
       "        <th> decay_cons </th>\n",
       "        <td> 0.000945 </td>\n",
       "        <td style=\"background-color:rgb(245,245,250);color:black\"> -1.7e-05 <strong>(-0.038)</strong> </td>\n",
       "        <td style=\"background-color:rgb(250,233,233);color:black\"> 3.99e-06 <strong>(0.112)</strong> </td>\n",
       "    </tr>\n",
       "    <tr>\n",
       "        <th> mean </th>\n",
       "        <td style=\"background-color:rgb(245,245,250);color:black\"> -1.7e-05 <strong>(-0.038)</strong> </td>\n",
       "        <td> 0.000212 </td>\n",
       "        <td style=\"background-color:rgb(244,244,250);color:black\"> -7.14e-07 <strong>(-0.042)</strong> </td>\n",
       "    </tr>\n",
       "    <tr>\n",
       "        <th> fraction </th>\n",
       "        <td style=\"background-color:rgb(250,233,233);color:black\"> 3.99e-06 <strong>(0.112)</strong> </td>\n",
       "        <td style=\"background-color:rgb(244,244,250);color:black\"> -7.14e-07 <strong>(-0.042)</strong> </td>\n",
       "        <td> 1.33e-06 </td>\n",
       "    </tr>\n",
       "</table>"
      ],
      "text/plain": [
       "┌─────────────────────────────────────────────────────────────────────────┐\n",
       "│                                Migrad                                   │\n",
       "├──────────────────────────────────┬──────────────────────────────────────┤\n",
       "│ FCN = 2.146e+05                  │              Nfcn = 116              │\n",
       "│ EDM = 6.29e-07 (Goal: 0.0001)    │            time = 1.6 sec            │\n",
       "├──────────────────────────────────┼──────────────────────────────────────┤\n",
       "│          Valid Minimum           │        No Parameters at limit        │\n",
       "├──────────────────────────────────┼──────────────────────────────────────┤\n",
       "│ Below EDM threshold (goal x 10)  │           Below call limit           │\n",
       "├───────────────┬──────────────────┼───────────┬─────────────┬────────────┤\n",
       "│  Covariance   │     Hesse ok     │ Accurate  │  Pos. def.  │ Not forced │\n",
       "└───────────────┴──────────────────┴───────────┴─────────────┴────────────┘\n",
       "┌───┬────────────┬───────────┬───────────┬────────────┬────────────┬─────────┬─────────┬───────┐\n",
       "│   │ Name       │   Value   │ Hesse Err │ Minos Err- │ Minos Err+ │ Limit-  │ Limit+  │ Fixed │\n",
       "├───┼────────────┼───────────┼───────────┼────────────┼────────────┼─────────┼─────────┼───────┤\n",
       "│ 0 │ decay_cons │   5.008   │   0.031   │            │            │         │         │       │\n",
       "│ 1 │ mean       │   2.499   │   0.015   │            │            │         │         │       │\n",
       "│ 2 │ fraction   │  0.0204   │  0.0012   │            │            │         │         │       │\n",
       "└───┴────────────┴───────────┴───────────┴────────────┴────────────┴─────────┴─────────┴───────┘\n",
       "┌────────────┬──────────────────────────────────┐\n",
       "│            │ decay_cons       mean   fraction │\n",
       "├────────────┼──────────────────────────────────┤\n",
       "│ decay_cons │   0.000945   -1.7e-05   3.99e-06 │\n",
       "│       mean │   -1.7e-05   0.000212  -7.14e-07 │\n",
       "│   fraction │   3.99e-06  -7.14e-07   1.33e-06 │\n",
       "└────────────┴──────────────────────────────────┘"
      ]
     },
     "execution_count": 7,
     "metadata": {},
     "output_type": "execute_result"
    }
   ],
   "source": [
    "les1=Minuit(fnct1,decay_cons=2.3,mean=2.5,fraction=0.05)\n",
    "les1.errordef=0.5\n",
    "les1.migrad()"
   ]
  },
  {
   "cell_type": "code",
   "execution_count": 8,
   "id": "3d2ef28c",
   "metadata": {},
   "outputs": [
    {
     "name": "stdout",
     "output_type": "stream",
     "text": [
      "calculated mean of signal is = 2.50 +- 0.01         (+- Statistical error)\n"
     ]
    }
   ],
   "source": [
    "statistical_error1=les1.errors[1]\n",
    "print(f'calculated mean of signal is = {les1.values[1]:.2f} +- {statistical_error1:.2f}         (+- Statistical error)')"
   ]
  },
  {
   "cell_type": "markdown",
   "id": "b119cc44",
   "metadata": {},
   "source": [
    "# Question 2 (fit with poly)"
   ]
  },
  {
   "cell_type": "markdown",
   "id": "d86da400",
   "metadata": {},
   "source": [
    "Defining normalised polynomial function"
   ]
  },
  {
   "cell_type": "code",
   "execution_count": 9,
   "id": "22a7b245",
   "metadata": {},
   "outputs": [],
   "source": [
    "def poly_funct(x,a,b,c):\n",
    "    def poly(x,a,b,c):\n",
    "        return a+ b*x + c*x**2\n",
    "    def nor_poly (x):\n",
    "        return quad(poly, 0, 10, args=(a,b,c))\n",
    "    return poly(x,a,b,c)/nor_poly (x)[0]"
   ]
  },
  {
   "cell_type": "markdown",
   "id": "738b11e9",
   "metadata": {},
   "source": [
    "Defining negative log joint likelihood function for (gaussian signal on polynomial backgrown)"
   ]
  },
  {
   "cell_type": "code",
   "execution_count": 10,
   "id": "609e4b76",
   "metadata": {},
   "outputs": [],
   "source": [
    "def fnct2_1(fraction,mean,a,b,c):\n",
    "    NLL=0\n",
    "    pdf = fraction*gauss_funct(dat,mean)+(1-fraction)*poly_funct(dat,a,b,c)\n",
    "    for i in range(len(dat)): \n",
    "        if pdf[i]<= 0:\n",
    "            pdf[i]=0.0001\n",
    "    return -np.sum(np.log(pdf))"
   ]
  },
  {
   "cell_type": "markdown",
   "id": "d3228c80",
   "metadata": {},
   "source": [
    "Minimising NLL to find optimal parameters"
   ]
  },
  {
   "cell_type": "code",
   "execution_count": 11,
   "id": "bfcb6c1c",
   "metadata": {},
   "outputs": [
    {
     "data": {
      "text/html": [
       "<table>\n",
       "    <tr>\n",
       "        <th colspan=\"5\" style=\"text-align:center\" title=\"Minimizer\"> Migrad </th>\n",
       "    </tr>\n",
       "    <tr>\n",
       "        <td colspan=\"2\" style=\"text-align:left\" title=\"Minimum value of function\"> FCN = 2.146e+05 </td>\n",
       "        <td colspan=\"3\" style=\"text-align:center\" title=\"Total number of function and (optional) gradient evaluations\"> Nfcn = 158 </td>\n",
       "    </tr>\n",
       "    <tr>\n",
       "        <td colspan=\"2\" style=\"text-align:left\" title=\"Estimated distance to minimum and goal\"> EDM = 7.01e-07 (Goal: 0.0001) </td>\n",
       "        <td colspan=\"3\" style=\"text-align:center\" title=\"Total run time of algorithms\"> time = 7.2 sec </td>\n",
       "    </tr>\n",
       "    <tr>\n",
       "        <td colspan=\"2\" style=\"text-align:center;background-color:#92CCA6;color:black\"> Valid Minimum </td>\n",
       "        <td colspan=\"3\" style=\"text-align:center;background-color:#92CCA6;color:black\"> No Parameters at limit </td>\n",
       "    </tr>\n",
       "    <tr>\n",
       "        <td colspan=\"2\" style=\"text-align:center;background-color:#92CCA6;color:black\"> Below EDM threshold (goal x 10) </td>\n",
       "        <td colspan=\"3\" style=\"text-align:center;background-color:#92CCA6;color:black\"> Below call limit </td>\n",
       "    </tr>\n",
       "    <tr>\n",
       "        <td style=\"text-align:center;background-color:#92CCA6;color:black\"> Covariance </td>\n",
       "        <td style=\"text-align:center;background-color:#92CCA6;color:black\"> Hesse ok </td>\n",
       "        <td style=\"text-align:center;background-color:#92CCA6;color:black\" title=\"Is covariance matrix accurate?\"> Accurate </td>\n",
       "        <td style=\"text-align:center;background-color:#92CCA6;color:black\" title=\"Is covariance matrix positive definite?\"> Pos. def. </td>\n",
       "        <td style=\"text-align:center;background-color:#92CCA6;color:black\" title=\"Was positive definiteness enforced by Minuit?\"> Not forced </td>\n",
       "    </tr>\n",
       "</table><table>\n",
       "    <tr>\n",
       "        <td></td>\n",
       "        <th title=\"Variable name\"> Name </th>\n",
       "        <th title=\"Value of parameter\"> Value </th>\n",
       "        <th title=\"Hesse error\"> Hesse Error </th>\n",
       "        <th title=\"Minos lower error\"> Minos Error- </th>\n",
       "        <th title=\"Minos upper error\"> Minos Error+ </th>\n",
       "        <th title=\"Lower limit of the parameter\"> Limit- </th>\n",
       "        <th title=\"Upper limit of the parameter\"> Limit+ </th>\n",
       "        <th title=\"Is the parameter fixed in the fit\"> Fixed </th>\n",
       "    </tr>\n",
       "    <tr>\n",
       "        <th> 0 </th>\n",
       "        <td> fraction </td>\n",
       "        <td> 0.0180 </td>\n",
       "        <td> 0.0012 </td>\n",
       "        <td>  </td>\n",
       "        <td>  </td>\n",
       "        <td>  </td>\n",
       "        <td>  </td>\n",
       "        <td>  </td>\n",
       "    </tr>\n",
       "    <tr>\n",
       "        <th> 1 </th>\n",
       "        <td> mean </td>\n",
       "        <td> 2.494 </td>\n",
       "        <td> 0.016 </td>\n",
       "        <td>  </td>\n",
       "        <td>  </td>\n",
       "        <td>  </td>\n",
       "        <td>  </td>\n",
       "        <td>  </td>\n",
       "    </tr>\n",
       "    <tr>\n",
       "        <th> 2 </th>\n",
       "        <td> a </td>\n",
       "        <td> 0.976 </td>\n",
       "        <td> 0.013 </td>\n",
       "        <td>  </td>\n",
       "        <td>  </td>\n",
       "        <td>  </td>\n",
       "        <td>  </td>\n",
       "        <td>  </td>\n",
       "    </tr>\n",
       "    <tr>\n",
       "        <th> 3 </th>\n",
       "        <td> b </td>\n",
       "        <td> -0.1539 </td>\n",
       "        <td> 0.0018 </td>\n",
       "        <td>  </td>\n",
       "        <td>  </td>\n",
       "        <td>  </td>\n",
       "        <td>  </td>\n",
       "        <td>  </td>\n",
       "    </tr>\n",
       "    <tr>\n",
       "        <th> 4 </th>\n",
       "        <td> c </td>\n",
       "        <td> 7.12e-3 </td>\n",
       "        <td> 0.12e-3 </td>\n",
       "        <td>  </td>\n",
       "        <td>  </td>\n",
       "        <td>  </td>\n",
       "        <td>  </td>\n",
       "        <td>  </td>\n",
       "    </tr>\n",
       "</table><table>\n",
       "    <tr>\n",
       "        <td></td>\n",
       "        <th> fraction </th>\n",
       "        <th> mean </th>\n",
       "        <th> a </th>\n",
       "        <th> b </th>\n",
       "        <th> c </th>\n",
       "    </tr>\n",
       "    <tr>\n",
       "        <th> fraction </th>\n",
       "        <td> 1.35e-06 </td>\n",
       "        <td style=\"background-color:rgb(245,245,250);color:black\"> -7.23e-07 <strong>(-0.040)</strong> </td>\n",
       "        <td style=\"background-color:rgb(250,248,248);color:black\"> 1.7e-07 <strong>(0.011)</strong> </td>\n",
       "        <td style=\"background-color:rgb(250,249,249);color:black\"> 1.42e-08 <strong>(0.007)</strong> </td>\n",
       "        <td style=\"background-color:rgb(250,249,249);color:black\"> 1.05e-09 <strong>(0.008)</strong> </td>\n",
       "    </tr>\n",
       "    <tr>\n",
       "        <th> mean </th>\n",
       "        <td style=\"background-color:rgb(245,245,250);color:black\"> -7.23e-07 <strong>(-0.040)</strong> </td>\n",
       "        <td> 0.000244 </td>\n",
       "        <td style=\"background-color:rgb(248,248,250);color:black\"> -3.75e-06 <strong>(-0.019)</strong> </td>\n",
       "        <td style=\"background-color:rgb(249,249,250);color:black\"> -1.35e-07 <strong>(-0.005)</strong> </td>\n",
       "        <td style=\"background-color:rgb(250,246,246);color:black\"> 4.69e-08 <strong>(0.025)</strong> </td>\n",
       "    </tr>\n",
       "    <tr>\n",
       "        <th> a </th>\n",
       "        <td style=\"background-color:rgb(250,248,248);color:black\"> 1.7e-07 <strong>(0.011)</strong> </td>\n",
       "        <td style=\"background-color:rgb(248,248,250);color:black\"> -3.75e-06 <strong>(-0.019)</strong> </td>\n",
       "        <td> 0.000165 </td>\n",
       "        <td style=\"background-color:rgb(144,144,250);color:black\"> -1.87e-05 <strong>(-0.813)</strong> </td>\n",
       "        <td style=\"background-color:rgb(250,211,211);color:black\"> 3.95e-07 <strong>(0.257)</strong> </td>\n",
       "    </tr>\n",
       "    <tr>\n",
       "        <th> b </th>\n",
       "        <td style=\"background-color:rgb(250,249,249);color:black\"> 1.42e-08 <strong>(0.007)</strong> </td>\n",
       "        <td style=\"background-color:rgb(249,249,250);color:black\"> -1.35e-07 <strong>(-0.005)</strong> </td>\n",
       "        <td style=\"background-color:rgb(144,144,250);color:black\"> -1.87e-05 <strong>(-0.813)</strong> </td>\n",
       "        <td> 3.19e-06 </td>\n",
       "        <td style=\"background-color:rgb(151,151,250);color:black\"> -1.62e-07 <strong>(-0.760)</strong> </td>\n",
       "    </tr>\n",
       "    <tr>\n",
       "        <th> c </th>\n",
       "        <td style=\"background-color:rgb(250,249,249);color:black\"> 1.05e-09 <strong>(0.008)</strong> </td>\n",
       "        <td style=\"background-color:rgb(250,246,246);color:black\"> 4.69e-08 <strong>(0.025)</strong> </td>\n",
       "        <td style=\"background-color:rgb(250,211,211);color:black\"> 3.95e-07 <strong>(0.257)</strong> </td>\n",
       "        <td style=\"background-color:rgb(151,151,250);color:black\"> -1.62e-07 <strong>(-0.760)</strong> </td>\n",
       "        <td> 1.42e-08 </td>\n",
       "    </tr>\n",
       "</table>"
      ],
      "text/plain": [
       "┌─────────────────────────────────────────────────────────────────────────┐\n",
       "│                                Migrad                                   │\n",
       "├──────────────────────────────────┬──────────────────────────────────────┤\n",
       "│ FCN = 2.146e+05                  │              Nfcn = 158              │\n",
       "│ EDM = 7.01e-07 (Goal: 0.0001)    │            time = 7.2 sec            │\n",
       "├──────────────────────────────────┼──────────────────────────────────────┤\n",
       "│          Valid Minimum           │        No Parameters at limit        │\n",
       "├──────────────────────────────────┼──────────────────────────────────────┤\n",
       "│ Below EDM threshold (goal x 10)  │           Below call limit           │\n",
       "├───────────────┬──────────────────┼───────────┬─────────────┬────────────┤\n",
       "│  Covariance   │     Hesse ok     │ Accurate  │  Pos. def.  │ Not forced │\n",
       "└───────────────┴──────────────────┴───────────┴─────────────┴────────────┘\n",
       "┌───┬──────────┬───────────┬───────────┬────────────┬────────────┬─────────┬─────────┬───────┐\n",
       "│   │ Name     │   Value   │ Hesse Err │ Minos Err- │ Minos Err+ │ Limit-  │ Limit+  │ Fixed │\n",
       "├───┼──────────┼───────────┼───────────┼────────────┼────────────┼─────────┼─────────┼───────┤\n",
       "│ 0 │ fraction │  0.0180   │  0.0012   │            │            │         │         │       │\n",
       "│ 1 │ mean     │   2.494   │   0.016   │            │            │         │         │       │\n",
       "│ 2 │ a        │   0.976   │   0.013   │            │            │         │         │       │\n",
       "│ 3 │ b        │  -0.1539  │  0.0018   │            │            │         │         │       │\n",
       "│ 4 │ c        │  7.12e-3  │  0.12e-3  │            │            │         │         │       │\n",
       "└───┴──────────┴───────────┴───────────┴────────────┴────────────┴─────────┴─────────┴───────┘\n",
       "┌──────────┬───────────────────────────────────────────────────┐\n",
       "│          │  fraction      mean         a         b         c │\n",
       "├──────────┼───────────────────────────────────────────────────┤\n",
       "│ fraction │  1.35e-06 -7.23e-07   1.7e-07  1.42e-08  1.05e-09 │\n",
       "│     mean │ -7.23e-07  0.000244 -3.75e-06 -1.35e-07  4.69e-08 │\n",
       "│        a │   1.7e-07 -3.75e-06  0.000165 -1.87e-05  3.95e-07 │\n",
       "│        b │  1.42e-08 -1.35e-07 -1.87e-05  3.19e-06 -1.62e-07 │\n",
       "│        c │  1.05e-09  4.69e-08  3.95e-07 -1.62e-07  1.42e-08 │\n",
       "└──────────┴───────────────────────────────────────────────────┘"
      ]
     },
     "execution_count": 11,
     "metadata": {},
     "output_type": "execute_result"
    }
   ],
   "source": [
    "les2=Minuit(fnct2_1,a=1,b=-0.016,c=0.007,mean=2.5,fraction=0.02)\n",
    "les2.errordef=0.5\n",
    "les2.migrad()"
   ]
  },
  {
   "cell_type": "markdown",
   "id": "e1b0cb3f",
   "metadata": {},
   "source": [
    "Calculating errors"
   ]
  },
  {
   "cell_type": "code",
   "execution_count": 12,
   "id": "dec46389",
   "metadata": {},
   "outputs": [],
   "source": [
    "systamatic_error1=les1.values[1]-les2.values[1]\n",
    "statistical_error1=les1.errors[1]\n",
    "total_error1=np.sqrt(systamatic_error1**2+statistical_error1**2)"
   ]
  },
  {
   "cell_type": "code",
   "execution_count": 13,
   "id": "2e3587b1",
   "metadata": {},
   "outputs": [
    {
     "name": "stdout",
     "output_type": "stream",
     "text": [
      "Statistical error on signal is +- 0.014570247938694998\n",
      "Systematic error on signal is  +- 0.004240395158150889 (we will roundoff in final step)\n",
      "\n",
      "calculated mean of signal is = 2.50 +- 0.01 +- 0.00 (+- statistical +- systamatic errors)\n",
      "calculated mean of signal is = 2.50 +- 0.02         (+- total error)\n"
     ]
    }
   ],
   "source": [
    "print(f'Statistical error on signal is +- {statistical_error1}')\n",
    "#Using statistical error from exponential fit\n",
    "\n",
    "print(f'Systematic error on signal is  +- {systamatic_error1} (we will roundoff in final step)')\n",
    "#For our case it is difference between Signal with exponential noise vs linear noise\n",
    "\n",
    "print()\n",
    "print(f'calculated mean of signal is = {les1.values[1]:.2f} +- {statistical_error1:.2f} +- {systamatic_error1:.2f} (+- statistical +- systamatic errors)')\n",
    "print(f'calculated mean of signal is = {les1.values[1]:.2f} +- {total_error1:.2f}         (+- total error)')"
   ]
  },
  {
   "cell_type": "markdown",
   "id": "4ccc93bf",
   "metadata": {},
   "source": [
    "Importance of systematic error as compared to statistical error"
   ]
  },
  {
   "cell_type": "markdown",
   "id": "37b43f72",
   "metadata": {},
   "source": [
    "Systematic errors are much more problematic than statistical errors because they can skew your data to lead you to false conclusions. If you have systematic error, your measurements will be biased away from the true values. And you can never be sure about if you have taken account of all possible Systamatic errors. In above example Systematic error is insignificant in calculation, But it is not always the case."
   ]
  },
  {
   "cell_type": "markdown",
   "id": "be2ca7ab",
   "metadata": {},
   "source": [
    "# Question 3 (fit with linear)"
   ]
  },
  {
   "cell_type": "markdown",
   "id": "a1b7e0a6",
   "metadata": {},
   "source": [
    "Defining normalised linear function"
   ]
  },
  {
   "cell_type": "code",
   "execution_count": 14,
   "id": "7fd07892",
   "metadata": {},
   "outputs": [],
   "source": [
    "def lin_funct(x,a,b):\n",
    "    def lin(x,a,b):\n",
    "        return a + b*x \n",
    "    def nor_lin (x):\n",
    "        return quad(lin, 0, 10, args=(a,b))\n",
    "    return lin(x,a,b)/nor_lin (x)[0]"
   ]
  },
  {
   "cell_type": "markdown",
   "id": "015029f1",
   "metadata": {},
   "source": [
    "Defining negative log joint likelihood function for (gaussian signal on linear backgrown)"
   ]
  },
  {
   "cell_type": "code",
   "execution_count": 15,
   "id": "8eaff70f",
   "metadata": {},
   "outputs": [],
   "source": [
    "def fnct3_1(fraction,mean,a,b):\n",
    "    pdf = fraction*gauss_funct(dat,mean)+(1-fraction)*lin_funct(dat,a,b)\n",
    "    for i in range(len(dat)): \n",
    "        if pdf[i]<= 0:\n",
    "            pdf[i]=0.0001\n",
    "    return -np.sum(np.log(pdf))"
   ]
  },
  {
   "cell_type": "markdown",
   "id": "cd08d29a",
   "metadata": {},
   "source": [
    "Minimising NLL to find optimal parameters"
   ]
  },
  {
   "cell_type": "code",
   "execution_count": 16,
   "id": "77f857fb",
   "metadata": {},
   "outputs": [
    {
     "data": {
      "text/html": [
       "<table>\n",
       "    <tr>\n",
       "        <th colspan=\"5\" style=\"text-align:center\" title=\"Minimizer\"> Migrad </th>\n",
       "    </tr>\n",
       "    <tr>\n",
       "        <td colspan=\"2\" style=\"text-align:left\" title=\"Minimum value of function\"> FCN = 2.155e+05 </td>\n",
       "        <td colspan=\"3\" style=\"text-align:center\" title=\"Total number of function and (optional) gradient evaluations\"> Nfcn = 77 </td>\n",
       "    </tr>\n",
       "    <tr>\n",
       "        <td colspan=\"2\" style=\"text-align:left\" title=\"Estimated distance to minimum and goal\"> EDM = 5.42e-06 (Goal: 0.0001) </td>\n",
       "        <td colspan=\"3\" style=\"text-align:center\" title=\"Total run time of algorithms\"> time = 3.4 sec </td>\n",
       "    </tr>\n",
       "    <tr>\n",
       "        <td colspan=\"2\" style=\"text-align:center;background-color:#92CCA6;color:black\"> Valid Minimum </td>\n",
       "        <td colspan=\"3\" style=\"text-align:center;background-color:#92CCA6;color:black\"> No Parameters at limit </td>\n",
       "    </tr>\n",
       "    <tr>\n",
       "        <td colspan=\"2\" style=\"text-align:center;background-color:#92CCA6;color:black\"> Below EDM threshold (goal x 10) </td>\n",
       "        <td colspan=\"3\" style=\"text-align:center;background-color:#92CCA6;color:black\"> Below call limit </td>\n",
       "    </tr>\n",
       "    <tr>\n",
       "        <td style=\"text-align:center;background-color:#92CCA6;color:black\"> Covariance </td>\n",
       "        <td style=\"text-align:center;background-color:#92CCA6;color:black\"> Hesse ok </td>\n",
       "        <td style=\"text-align:center;background-color:#92CCA6;color:black\" title=\"Is covariance matrix accurate?\"> Accurate </td>\n",
       "        <td style=\"text-align:center;background-color:#92CCA6;color:black\" title=\"Is covariance matrix positive definite?\"> Pos. def. </td>\n",
       "        <td style=\"text-align:center;background-color:#92CCA6;color:black\" title=\"Was positive definiteness enforced by Minuit?\"> Not forced </td>\n",
       "    </tr>\n",
       "</table><table>\n",
       "    <tr>\n",
       "        <td></td>\n",
       "        <th title=\"Variable name\"> Name </th>\n",
       "        <th title=\"Value of parameter\"> Value </th>\n",
       "        <th title=\"Hesse error\"> Hesse Error </th>\n",
       "        <th title=\"Minos lower error\"> Minos Error- </th>\n",
       "        <th title=\"Minos upper error\"> Minos Error+ </th>\n",
       "        <th title=\"Lower limit of the parameter\"> Limit- </th>\n",
       "        <th title=\"Upper limit of the parameter\"> Limit+ </th>\n",
       "        <th title=\"Is the parameter fixed in the fit\"> Fixed </th>\n",
       "    </tr>\n",
       "    <tr>\n",
       "        <th> 0 </th>\n",
       "        <td> fraction </td>\n",
       "        <td> 0.0199 </td>\n",
       "        <td> 0.0012 </td>\n",
       "        <td>  </td>\n",
       "        <td>  </td>\n",
       "        <td>  </td>\n",
       "        <td>  </td>\n",
       "        <td>  </td>\n",
       "    </tr>\n",
       "    <tr>\n",
       "        <th> 1 </th>\n",
       "        <td> mean </td>\n",
       "        <td> 2.465 </td>\n",
       "        <td> 0.015 </td>\n",
       "        <td>  </td>\n",
       "        <td>  </td>\n",
       "        <td>  </td>\n",
       "        <td>  </td>\n",
       "        <td>  </td>\n",
       "    </tr>\n",
       "    <tr>\n",
       "        <th> 2 </th>\n",
       "        <td> a </td>\n",
       "        <td> 0.998 </td>\n",
       "        <td> 0.015 </td>\n",
       "        <td>  </td>\n",
       "        <td>  </td>\n",
       "        <td>  </td>\n",
       "        <td>  </td>\n",
       "        <td>  </td>\n",
       "    </tr>\n",
       "    <tr>\n",
       "        <th> 3 </th>\n",
       "        <td> b </td>\n",
       "        <td> -0.0902 </td>\n",
       "        <td> 0.0014 </td>\n",
       "        <td>  </td>\n",
       "        <td>  </td>\n",
       "        <td>  </td>\n",
       "        <td>  </td>\n",
       "        <td>  </td>\n",
       "    </tr>\n",
       "</table><table>\n",
       "    <tr>\n",
       "        <td></td>\n",
       "        <th> fraction </th>\n",
       "        <th> mean </th>\n",
       "        <th> a </th>\n",
       "        <th> b </th>\n",
       "    </tr>\n",
       "    <tr>\n",
       "        <th> fraction </th>\n",
       "        <td> 1.35e-06 </td>\n",
       "        <td style=\"background-color:rgb(245,245,250);color:black\"> -6.14e-07 <strong>(-0.035)</strong> </td>\n",
       "        <td style=\"background-color:rgb(250,249,249);color:black\"> 1.74e-07 <strong>(0.010)</strong> </td>\n",
       "        <td style=\"background-color:rgb(250,248,248);color:black\"> 1.78e-08 <strong>(0.011)</strong> </td>\n",
       "    </tr>\n",
       "    <tr>\n",
       "        <th> mean </th>\n",
       "        <td style=\"background-color:rgb(245,245,250);color:black\"> -6.14e-07 <strong>(-0.035)</strong> </td>\n",
       "        <td> 0.000229 </td>\n",
       "        <td style=\"background-color:rgb(250,250,250);color:black\"> -2.67e-07 <strong>(-0.001)</strong> </td>\n",
       "        <td style=\"background-color:rgb(250,250,250);color:black\"> -2.73e-08 <strong>(-0.001)</strong> </td>\n",
       "    </tr>\n",
       "    <tr>\n",
       "        <th> a </th>\n",
       "        <td style=\"background-color:rgb(250,249,249);color:black\"> 1.74e-07 <strong>(0.010)</strong> </td>\n",
       "        <td style=\"background-color:rgb(250,250,250);color:black\"> -2.67e-07 <strong>(-0.001)</strong> </td>\n",
       "        <td> 0.000235 </td>\n",
       "        <td style=\"background-color:rgb(122,122,250);color:black\"> -2.09e-05 <strong>(-0.987)</strong> </td>\n",
       "    </tr>\n",
       "    <tr>\n",
       "        <th> b </th>\n",
       "        <td style=\"background-color:rgb(250,248,248);color:black\"> 1.78e-08 <strong>(0.011)</strong> </td>\n",
       "        <td style=\"background-color:rgb(250,250,250);color:black\"> -2.73e-08 <strong>(-0.001)</strong> </td>\n",
       "        <td style=\"background-color:rgb(122,122,250);color:black\"> -2.09e-05 <strong>(-0.987)</strong> </td>\n",
       "        <td> 1.92e-06 </td>\n",
       "    </tr>\n",
       "</table>"
      ],
      "text/plain": [
       "┌─────────────────────────────────────────────────────────────────────────┐\n",
       "│                                Migrad                                   │\n",
       "├──────────────────────────────────┬──────────────────────────────────────┤\n",
       "│ FCN = 2.155e+05                  │              Nfcn = 77               │\n",
       "│ EDM = 5.42e-06 (Goal: 0.0001)    │            time = 3.4 sec            │\n",
       "├──────────────────────────────────┼──────────────────────────────────────┤\n",
       "│          Valid Minimum           │        No Parameters at limit        │\n",
       "├──────────────────────────────────┼──────────────────────────────────────┤\n",
       "│ Below EDM threshold (goal x 10)  │           Below call limit           │\n",
       "├───────────────┬──────────────────┼───────────┬─────────────┬────────────┤\n",
       "│  Covariance   │     Hesse ok     │ Accurate  │  Pos. def.  │ Not forced │\n",
       "└───────────────┴──────────────────┴───────────┴─────────────┴────────────┘\n",
       "┌───┬──────────┬───────────┬───────────┬────────────┬────────────┬─────────┬─────────┬───────┐\n",
       "│   │ Name     │   Value   │ Hesse Err │ Minos Err- │ Minos Err+ │ Limit-  │ Limit+  │ Fixed │\n",
       "├───┼──────────┼───────────┼───────────┼────────────┼────────────┼─────────┼─────────┼───────┤\n",
       "│ 0 │ fraction │  0.0199   │  0.0012   │            │            │         │         │       │\n",
       "│ 1 │ mean     │   2.465   │   0.015   │            │            │         │         │       │\n",
       "│ 2 │ a        │   0.998   │   0.015   │            │            │         │         │       │\n",
       "│ 3 │ b        │  -0.0902  │  0.0014   │            │            │         │         │       │\n",
       "└───┴──────────┴───────────┴───────────┴────────────┴────────────┴─────────┴─────────┴───────┘\n",
       "┌──────────┬─────────────────────────────────────────┐\n",
       "│          │  fraction      mean         a         b │\n",
       "├──────────┼─────────────────────────────────────────┤\n",
       "│ fraction │  1.35e-06 -6.14e-07  1.74e-07  1.78e-08 │\n",
       "│     mean │ -6.14e-07  0.000229 -2.67e-07 -2.73e-08 │\n",
       "│        a │  1.74e-07 -2.67e-07  0.000235 -2.09e-05 │\n",
       "│        b │  1.78e-08 -2.73e-08 -2.09e-05  1.92e-06 │\n",
       "└──────────┴─────────────────────────────────────────┘"
      ]
     },
     "execution_count": 16,
     "metadata": {},
     "output_type": "execute_result"
    }
   ],
   "source": [
    "les3=Minuit(fnct3_1,a=1,b=-0.09,mean=2.5,fraction=0.02)\n",
    "les3.errordef=0.5\n",
    "les3.migrad()"
   ]
  },
  {
   "cell_type": "markdown",
   "id": "8fc952fc",
   "metadata": {},
   "source": [
    "# Quoating signal mean and error after final evaluation (question 3)"
   ]
  },
  {
   "cell_type": "markdown",
   "id": "62824716",
   "metadata": {},
   "source": [
    "Using maximum difference between mean of signal from all fits as systamatic error."
   ]
  },
  {
   "cell_type": "code",
   "execution_count": 17,
   "id": "b19bd175",
   "metadata": {},
   "outputs": [
    {
     "name": "stdout",
     "output_type": "stream",
     "text": [
      "Systamatic error on signal is +- 0.03\n"
     ]
    }
   ],
   "source": [
    "systamatic_error=les1.values[1]-les3.values[1]\n",
    "#For our case it is difference between Signal with exponential noise vs linear noise \n",
    "print(f'Systamatic error on signal is +- {systamatic_error:.2f}')"
   ]
  },
  {
   "cell_type": "markdown",
   "id": "6535d01a",
   "metadata": {},
   "source": [
    "Using statistical error from exponential fit"
   ]
  },
  {
   "cell_type": "code",
   "execution_count": 18,
   "id": "1e9255b6",
   "metadata": {},
   "outputs": [
    {
     "name": "stdout",
     "output_type": "stream",
     "text": [
      "Statistical error on signal is +- 0.01\n"
     ]
    }
   ],
   "source": [
    "statistical_error=les1.errors[1]\n",
    "print(f'Statistical error on signal is +- {statistical_error:.2f}')"
   ]
  },
  {
   "cell_type": "markdown",
   "id": "1e119ccb",
   "metadata": {},
   "source": [
    "calculating quadrature of errors"
   ]
  },
  {
   "cell_type": "code",
   "execution_count": 19,
   "id": "9ecacac8",
   "metadata": {},
   "outputs": [
    {
     "name": "stdout",
     "output_type": "stream",
     "text": [
      "Total error on signal is +- 0.04\n"
     ]
    }
   ],
   "source": [
    "total_error=np.sqrt(systamatic_error**2+statistical_error**2)\n",
    "print(f'Total error on signal is +- {total_error:.2f}')"
   ]
  },
  {
   "cell_type": "markdown",
   "id": "a79d17d8",
   "metadata": {},
   "source": [
    "Calculated mean of signal "
   ]
  },
  {
   "cell_type": "code",
   "execution_count": 20,
   "id": "3694633f",
   "metadata": {},
   "outputs": [
    {
     "name": "stdout",
     "output_type": "stream",
     "text": [
      "calculated mean of signal is = 2.50 +- 0.01 +- 0.03 (+- statistical +- systamatic errors)\n",
      "calculated mean of signal is = 2.50 +- 0.04         (+- total error)\n"
     ]
    }
   ],
   "source": [
    "print(f'calculated mean of signal is = {les1.values[1]:.2f} +- {statistical_error:.2f} +- {systamatic_error:.2f} (+- statistical +- systamatic errors)')\n",
    "print(f'calculated mean of signal is = {les1.values[1]:.2f} +- {total_error:.2f}         (+- total error)')"
   ]
  },
  {
   "cell_type": "markdown",
   "id": "854aa330",
   "metadata": {},
   "source": [
    "Importance of systematic error as compared to statistical error"
   ]
  },
  {
   "cell_type": "markdown",
   "id": "1c7cf35d",
   "metadata": {},
   "source": [
    "Systematic errors are much more problematic than statistical errors because they can skew your data to lead you to false conclusions. If you have systematic error, your measurements will be biased away from the true values. And you can never be sure about if you have taken account of all possible Systamatic errors. In above example It is clear that systematic error has altered the observations quite heavely, Hence we should always account for systematic error to avoid any biases."
   ]
  },
  {
   "cell_type": "code",
   "execution_count": null,
   "id": "02144ef3",
   "metadata": {},
   "outputs": [],
   "source": []
  }
 ],
 "metadata": {
  "kernelspec": {
   "display_name": "Python 3 (ipykernel)",
   "language": "python",
   "name": "python3"
  },
  "language_info": {
   "codemirror_mode": {
    "name": "ipython",
    "version": 3
   },
   "file_extension": ".py",
   "mimetype": "text/x-python",
   "name": "python",
   "nbconvert_exporter": "python",
   "pygments_lexer": "ipython3",
   "version": "3.9.13"
  }
 },
 "nbformat": 4,
 "nbformat_minor": 5
}
