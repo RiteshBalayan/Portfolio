{
 "cells": [
  {
   "cell_type": "code",
   "execution_count": 1,
   "id": "bcb0febf",
   "metadata": {},
   "outputs": [],
   "source": [
    "import pandas as pd\n",
    "import numpy as np"
   ]
  },
  {
   "cell_type": "markdown",
   "id": "54f22838",
   "metadata": {},
   "source": [
    "# Import Data, Which will be backgrownTrain always"
   ]
  },
  {
   "cell_type": "code",
   "execution_count": 7,
   "id": "c5c00666",
   "metadata": {},
   "outputs": [],
   "source": [
    "df = pd.read_csv('backgrownTrain.csv') "
   ]
  },
  {
   "cell_type": "code",
   "execution_count": 2,
   "id": "808a0303",
   "metadata": {},
   "outputs": [],
   "source": [
    "import tensorflow as tf\n",
    "import matplotlib.pyplot as plt"
   ]
  },
  {
   "cell_type": "code",
   "execution_count": 3,
   "id": "d8fccf18",
   "metadata": {},
   "outputs": [],
   "source": [
    "# Keras import(s)\n",
    "from tensorflow.keras.utils import plot_model\n",
    "from tensorflow.keras.models import Model, Sequential\n",
    "from tensorflow.keras.layers import Input, Dense, Dropout, Flatten, Reshape, Conv2D, Conv2DTranspose, Concatenate, Lambda,BatchNormalization, UpSampling2D, MaxPooling2D\n",
    "from tensorflow.keras import backend as K\n",
    "from tensorflow.keras.losses import binary_crossentropy\n",
    "from tensorflow.keras.layers import LeakyReLU\n",
    "from tensorflow.keras.backend import set_image_data_format\n",
    "from keras.optimizers import Adam\n",
    "from tensorflow.python.framework.ops import disable_eager_execution\n",
    "disable_eager_execution()\n",
    "set_image_data_format('channels_last')  # Images are formatted as (N, N, 1), with colour-channels last"
   ]
  },
  {
   "cell_type": "markdown",
   "id": "a6ae3cbb",
   "metadata": {},
   "source": [
    "# Following are functions to make encoder and decoders"
   ]
  },
  {
   "cell_type": "code",
   "execution_count": 4,
   "id": "4a08c348",
   "metadata": {},
   "outputs": [],
   "source": [
    "def build_encoder_model(shape, latent_dim, dense_layers):\n",
    "    i = Input(shape, name='input')\n",
    "    x = i\n",
    "    for neurons in dense_layers:\n",
    "        x = Dense(neurons, activation='relu')(x)\n",
    "    e = Dense(latent_dim, activation='relu')(x)\n",
    "    encoder = Model(i, e, name='encoder')\n",
    "    return encoder"
   ]
  },
  {
   "cell_type": "code",
   "execution_count": 5,
   "id": "a98333e4",
   "metadata": {},
   "outputs": [],
   "source": [
    "def build_decoder_model(latent_dim, shape, dense_layers):\n",
    "    t = Input(shape=(latent_dim,), name='decoder_input')\n",
    "    x = t\n",
    "    for neurons in dense_layers:\n",
    "        x = Dense(neurons, activation='relu')(x)\n",
    "    o = Dense(shape[0], activation='relu')(x)\n",
    "    decoder = Model(t, o, name='decoder')\n",
    "    return decoder"
   ]
  },
  {
   "cell_type": "markdown",
   "id": "2d7dd1b9",
   "metadata": {},
   "source": [
    "# Following is a modular cell, which can be readily changed to make different model"
   ]
  },
  {
   "cell_type": "code",
   "execution_count": 32,
   "id": "64d31235",
   "metadata": {},
   "outputs": [],
   "source": [
    "input_shape = df.shape[1:]\n",
    "latent_dim = 30   #Latent space dimention\n",
    "\n",
    "dense_layers_encoder=[256,512,512,512,256,120,50]   #Numbers of dence layers used in encoder\n",
    "\n",
    "dense_layers_decoder = [50,120,256,512,512,512,256]   #Numbers of dence layers used in decoder"
   ]
  },
  {
   "cell_type": "markdown",
   "id": "6b8dbc65",
   "metadata": {},
   "source": [
    "In Every Model I used encoder and decoder are symetric"
   ]
  },
  {
   "cell_type": "code",
   "execution_count": 33,
   "id": "286160ad",
   "metadata": {},
   "outputs": [],
   "source": [
    "encoder = build_encoder_model(input_shape, latent_dim, dense_layers_encoder)\n",
    "decoder = build_decoder_model(latent_dim, input_shape, dense_layers_decoder)\n",
    "\n",
    "inputs = Input(shape=input_shape, name='encoder_input')\n",
    "latent_vector = encoder(inputs)\n",
    "reconstructed = decoder(latent_vector)\n",
    "\n",
    "vae = Model(inputs, reconstructed, name='vae')"
   ]
  },
  {
   "cell_type": "code",
   "execution_count": 34,
   "id": "6c06d2af",
   "metadata": {},
   "outputs": [
    {
     "name": "stdout",
     "output_type": "stream",
     "text": [
      "Model: \"vae\"\n",
      "_________________________________________________________________\n",
      " Layer (type)                Output Shape              Param #   \n",
      "=================================================================\n",
      " encoder_input (InputLayer)  [(None, 39)]              0         \n",
      "                                                                 \n",
      " encoder (Functional)        (None, 30)                836884    \n",
      "                                                                 \n",
      " decoder (Functional)        (None, 39)                836893    \n",
      "                                                                 \n",
      "=================================================================\n",
      "Total params: 1,673,777\n",
      "Trainable params: 1,673,777\n",
      "Non-trainable params: 0\n",
      "_________________________________________________________________\n"
     ]
    }
   ],
   "source": [
    "vae.summary()"
   ]
  },
  {
   "cell_type": "markdown",
   "id": "f4954469",
   "metadata": {},
   "source": [
    "# Traning Model"
   ]
  },
  {
   "cell_type": "markdown",
   "id": "427a13ef",
   "metadata": {},
   "source": [
    "I trained almost all model by minimising mean square error i and adams optimiser, Because almost It gives me better result in initial brainstroming sessions."
   ]
  },
  {
   "cell_type": "code",
   "execution_count": 35,
   "id": "1f6abf3d",
   "metadata": {},
   "outputs": [],
   "source": [
    "# Define parameters\n",
    "nb_epochs  =  150    #every model is trained for 50-150 epocs.\n",
    "batch_size = 500   #tried, 200 and 2000 also, But 500 seems better middle ground."
   ]
  },
  {
   "cell_type": "code",
   "execution_count": 36,
   "id": "d5ff8f78",
   "metadata": {},
   "outputs": [],
   "source": [
    "MSE='mean_squared_error'\n",
    "BCE='binary_crossentropy'"
   ]
  },
  {
   "cell_type": "code",
   "execution_count": 37,
   "id": "2532d77d",
   "metadata": {},
   "outputs": [],
   "source": [
    "vae.compile(optimizer='adam', loss=MSE, metrics=['MSE'])"
   ]
  },
  {
   "cell_type": "code",
   "execution_count": 38,
   "id": "fab15fa5",
   "metadata": {},
   "outputs": [
    {
     "name": "stdout",
     "output_type": "stream",
     "text": [
      "Train on 190549 samples, validate on 47638 samples\n",
      "Epoch 1/150\n",
      "190549/190549 [==============================] - 24s 126us/sample - loss: 0.0431 - MSE: 0.0431 - val_loss: 0.0216 - val_MSE: 0.0216\n",
      "Epoch 2/150\n",
      "190549/190549 [==============================] - 24s 124us/sample - loss: 0.0160 - MSE: 0.0160 - val_loss: 0.0121 - val_MSE: 0.0121\n",
      "Epoch 3/150\n",
      "190549/190549 [==============================] - 24s 125us/sample - loss: 0.0097 - MSE: 0.0097 - val_loss: 0.0086 - val_MSE: 0.0086\n",
      "Epoch 4/150\n",
      "190549/190549 [==============================] - 23s 122us/sample - loss: 0.0075 - MSE: 0.0075 - val_loss: 0.0069 - val_MSE: 0.0069\n",
      "Epoch 5/150\n",
      "190549/190549 [==============================] - 27s 141us/sample - loss: 0.0060 - MSE: 0.0060 - val_loss: 0.0056 - val_MSE: 0.0056\n",
      "Epoch 6/150\n",
      "190549/190549 [==============================] - 26s 135us/sample - loss: 0.0047 - MSE: 0.0047 - val_loss: 0.0046 - val_MSE: 0.0046\n",
      "Epoch 7/150\n",
      "190549/190549 [==============================] - 27s 139us/sample - loss: 0.0039 - MSE: 0.0039 - val_loss: 0.0042 - val_MSE: 0.0042\n",
      "Epoch 8/150\n",
      "190549/190549 [==============================] - 26s 136us/sample - loss: 0.0034 - MSE: 0.0034 - val_loss: 0.0033 - val_MSE: 0.0033\n",
      "Epoch 9/150\n",
      "190549/190549 [==============================] - 26s 135us/sample - loss: 0.0031 - MSE: 0.0031 - val_loss: 0.0032 - val_MSE: 0.0032\n",
      "Epoch 10/150\n",
      "190549/190549 [==============================] - 26s 137us/sample - loss: 0.0028 - MSE: 0.0028 - val_loss: 0.0028 - val_MSE: 0.0028\n",
      "Epoch 11/150\n",
      "190549/190549 [==============================] - 25s 132us/sample - loss: 0.0027 - MSE: 0.0027 - val_loss: 0.0027 - val_MSE: 0.0027\n",
      "Epoch 12/150\n",
      "190549/190549 [==============================] - 25s 133us/sample - loss: 0.0025 - MSE: 0.0025 - val_loss: 0.0023 - val_MSE: 0.0023\n",
      "Epoch 13/150\n",
      "190549/190549 [==============================] - 27s 140us/sample - loss: 0.0023 - MSE: 0.0023 - val_loss: 0.0025 - val_MSE: 0.0025\n",
      "Epoch 14/150\n",
      "190549/190549 [==============================] - 23s 123us/sample - loss: 0.0017 - MSE: 0.0017 - val_loss: 0.0017 - val_MSE: 0.0017\n",
      "Epoch 15/150\n",
      "190549/190549 [==============================] - 25s 130us/sample - loss: 0.0014 - MSE: 0.0014 - val_loss: 0.0018 - val_MSE: 0.0018\n",
      "Epoch 16/150\n",
      "190549/190549 [==============================] - 24s 126us/sample - loss: 0.0013 - MSE: 0.0013 - val_loss: 0.0013 - val_MSE: 0.0013\n",
      "Epoch 17/150\n",
      "190549/190549 [==============================] - 24s 126us/sample - loss: 0.0013 - MSE: 0.0013 - val_loss: 0.0012 - val_MSE: 0.0012\n",
      "Epoch 18/150\n",
      "190549/190549 [==============================] - 24s 125us/sample - loss: 0.0012 - MSE: 0.0012 - val_loss: 0.0013 - val_MSE: 0.0013\n",
      "Epoch 19/150\n",
      "190549/190549 [==============================] - 24s 125us/sample - loss: 0.0011 - MSE: 0.0011 - val_loss: 0.0013 - val_MSE: 0.0013\n",
      "Epoch 20/150\n",
      "190549/190549 [==============================] - 24s 125us/sample - loss: 0.0011 - MSE: 0.0011 - val_loss: 0.0020 - val_MSE: 0.0020\n",
      "Epoch 21/150\n",
      "190549/190549 [==============================] - 25s 129us/sample - loss: 0.0011 - MSE: 0.0011 - val_loss: 0.0014 - val_MSE: 0.0014\n",
      "Epoch 22/150\n",
      "190549/190549 [==============================] - 24s 127us/sample - loss: 0.0010 - MSE: 0.0010 - val_loss: 0.0012 - val_MSE: 0.0012\n",
      "Epoch 23/150\n",
      "190549/190549 [==============================] - 27s 141us/sample - loss: 9.6349e-04 - MSE: 9.6349e-04 - val_loss: 0.0011 - val_MSE: 0.0011\n",
      "Epoch 24/150\n",
      "190549/190549 [==============================] - 26s 135us/sample - loss: 9.6685e-04 - MSE: 9.6685e-04 - val_loss: 0.0010 - val_MSE: 0.0010\n",
      "Epoch 25/150\n",
      "190549/190549 [==============================] - 30s 158us/sample - loss: 9.4266e-04 - MSE: 9.4266e-04 - val_loss: 9.9955e-04 - val_MSE: 9.9955e-04\n",
      "Epoch 26/150\n",
      "190549/190549 [==============================] - 27s 143us/sample - loss: 0.0015 - MSE: 0.0015 - val_loss: 0.0010 - val_MSE: 0.0010\n",
      "Epoch 27/150\n",
      "190549/190549 [==============================] - 26s 136us/sample - loss: 9.1496e-04 - MSE: 9.1496e-04 - val_loss: 0.0010 - val_MSE: 0.0010\n",
      "Epoch 28/150\n",
      "190549/190549 [==============================] - 27s 144us/sample - loss: 8.6812e-04 - MSE: 8.6812e-04 - val_loss: 8.9826e-04 - val_MSE: 8.9826e-04\n",
      "Epoch 29/150\n",
      "190549/190549 [==============================] - 27s 141us/sample - loss: 8.5053e-04 - MSE: 8.5053e-04 - val_loss: 9.4667e-04 - val_MSE: 9.4667e-04\n",
      "Epoch 30/150\n",
      "190549/190549 [==============================] - 26s 137us/sample - loss: 8.2096e-04 - MSE: 8.2096e-04 - val_loss: 9.3159e-04 - val_MSE: 9.3159e-04\n",
      "Epoch 31/150\n",
      "190549/190549 [==============================] - 27s 139us/sample - loss: 8.0088e-04 - MSE: 8.0088e-04 - val_loss: 9.1613e-04 - val_MSE: 9.1613e-04\n",
      "Epoch 32/150\n",
      "190549/190549 [==============================] - 25s 133us/sample - loss: 7.9356e-04 - MSE: 7.9356e-04 - val_loss: 8.8687e-04 - val_MSE: 8.8687e-04\n",
      "Epoch 33/150\n",
      "190549/190549 [==============================] - 29s 150us/sample - loss: 7.7254e-04 - MSE: 7.7254e-04 - val_loss: 8.2404e-04 - val_MSE: 8.2404e-04\n",
      "Epoch 34/150\n",
      "190549/190549 [==============================] - 29s 154us/sample - loss: 7.6836e-04 - MSE: 7.6836e-04 - val_loss: 0.0013 - val_MSE: 0.0013\n",
      "Epoch 35/150\n",
      "190549/190549 [==============================] - 29s 154us/sample - loss: 7.4821e-04 - MSE: 7.4821e-04 - val_loss: 7.4021e-04 - val_MSE: 7.4021e-04\n",
      "Epoch 36/150\n",
      "190549/190549 [==============================] - 29s 152us/sample - loss: 0.0014 - MSE: 0.0014 - val_loss: 0.0013 - val_MSE: 0.0013\n",
      "Epoch 37/150\n",
      "190549/190549 [==============================] - 24s 124us/sample - loss: 7.4956e-04 - MSE: 7.4956e-04 - val_loss: 7.7421e-04 - val_MSE: 7.7421e-04\n",
      "Epoch 38/150\n",
      "190549/190549 [==============================] - 31s 160us/sample - loss: 7.1815e-04 - MSE: 7.1815e-04 - val_loss: 8.0556e-04 - val_MSE: 8.0556e-04\n",
      "Epoch 39/150\n",
      "190549/190549 [==============================] - 31s 165us/sample - loss: 7.4122e-04 - MSE: 7.4122e-04 - val_loss: 8.6209e-04 - val_MSE: 8.6209e-04\n",
      "Epoch 40/150\n",
      "190549/190549 [==============================] - 30s 158us/sample - loss: 7.6467e-04 - MSE: 7.6467e-04 - val_loss: 0.0010 - val_MSE: 0.0010\n",
      "Epoch 41/150\n",
      "190549/190549 [==============================] - 31s 162us/sample - loss: 6.7085e-04 - MSE: 6.7085e-04 - val_loss: 7.0760e-04 - val_MSE: 7.0760e-04\n",
      "Epoch 42/150\n",
      "190549/190549 [==============================] - 31s 161us/sample - loss: 6.7590e-04 - MSE: 6.7590e-04 - val_loss: 9.0078e-04 - val_MSE: 9.0078e-04\n",
      "Epoch 43/150\n",
      "190549/190549 [==============================] - 30s 158us/sample - loss: 6.6736e-04 - MSE: 6.6736e-04 - val_loss: 7.0890e-04 - val_MSE: 7.0890e-04\n",
      "Epoch 44/150\n",
      "190549/190549 [==============================] - 30s 159us/sample - loss: 6.4136e-04 - MSE: 6.4136e-04 - val_loss: 7.4705e-04 - val_MSE: 7.4705e-04\n",
      "Epoch 45/150\n",
      "190549/190549 [==============================] - 29s 152us/sample - loss: 7.0703e-04 - MSE: 7.0703e-04 - val_loss: 0.0012 - val_MSE: 0.0012\n",
      "Epoch 46/150\n",
      "190549/190549 [==============================] - 27s 143us/sample - loss: 6.3377e-04 - MSE: 6.3377e-04 - val_loss: 6.2771e-04 - val_MSE: 6.2771e-04\n",
      "Epoch 47/150\n",
      "190549/190549 [==============================] - 26s 134us/sample - loss: 6.4899e-04 - MSE: 6.4899e-04 - val_loss: 7.1417e-04 - val_MSE: 7.1417e-04\n",
      "Epoch 48/150\n",
      "190549/190549 [==============================] - 25s 129us/sample - loss: 6.3724e-04 - MSE: 6.3724e-04 - val_loss: 6.6104e-04 - val_MSE: 6.6104e-04\n",
      "Epoch 49/150\n",
      "190549/190549 [==============================] - 26s 136us/sample - loss: 6.5674e-04 - MSE: 6.5674e-04 - val_loss: 0.0043 - val_MSE: 0.0043\n",
      "Epoch 50/150\n",
      "190549/190549 [==============================] - 26s 134us/sample - loss: 7.7070e-04 - MSE: 7.7070e-04 - val_loss: 6.1756e-04 - val_MSE: 6.1756e-04\n",
      "Epoch 51/150\n",
      "190549/190549 [==============================] - 25s 132us/sample - loss: 5.7515e-04 - MSE: 5.7515e-04 - val_loss: 6.4256e-04 - val_MSE: 6.4256e-04\n",
      "Epoch 52/150\n",
      "190549/190549 [==============================] - 24s 124us/sample - loss: 6.1811e-04 - MSE: 6.1811e-04 - val_loss: 6.6060e-04 - val_MSE: 6.6060e-04\n",
      "Epoch 53/150\n",
      "190549/190549 [==============================] - 24s 128us/sample - loss: 5.9361e-04 - MSE: 5.9361e-04 - val_loss: 6.4375e-04 - val_MSE: 6.4375e-04\n",
      "Epoch 54/150\n",
      "190549/190549 [==============================] - 25s 131us/sample - loss: 5.7921e-04 - MSE: 5.7921e-04 - val_loss: 5.8494e-04 - val_MSE: 5.8494e-04\n",
      "Epoch 55/150\n",
      "190549/190549 [==============================] - 27s 143us/sample - loss: 0.0015 - MSE: 0.0015 - val_loss: 0.0010 - val_MSE: 0.0010\n",
      "Epoch 56/150\n",
      "190549/190549 [==============================] - 26s 136us/sample - loss: 7.4652e-04 - MSE: 7.4652e-04 - val_loss: 7.3871e-04 - val_MSE: 7.3871e-04\n",
      "Epoch 57/150\n",
      "190549/190549 [==============================] - 24s 124us/sample - loss: 6.2194e-04 - MSE: 6.2194e-04 - val_loss: 6.4518e-04 - val_MSE: 6.4518e-04\n",
      "Epoch 58/150\n",
      "190549/190549 [==============================] - 26s 136us/sample - loss: 5.9580e-04 - MSE: 5.9580e-04 - val_loss: 7.0426e-04 - val_MSE: 7.0426e-04\n",
      "Epoch 59/150\n",
      "190549/190549 [==============================] - 25s 133us/sample - loss: 5.9224e-04 - MSE: 5.9224e-04 - val_loss: 8.4497e-04 - val_MSE: 8.4497e-04\n",
      "Epoch 60/150\n",
      "190549/190549 [==============================] - 23s 123us/sample - loss: 5.8611e-04 - MSE: 5.8611e-04 - val_loss: 6.4845e-04 - val_MSE: 6.4845e-04\n",
      "Epoch 61/150\n",
      "190549/190549 [==============================] - 24s 124us/sample - loss: 5.7333e-04 - MSE: 5.7333e-04 - val_loss: 6.5535e-04 - val_MSE: 6.5535e-04\n",
      "Epoch 62/150\n",
      "190549/190549 [==============================] - 25s 133us/sample - loss: 0.0011 - MSE: 0.0011 - val_loss: 0.0013 - val_MSE: 0.0013\n",
      "Epoch 63/150\n",
      "190549/190549 [==============================] - 25s 129us/sample - loss: 7.9209e-04 - MSE: 7.9209e-04 - val_loss: 7.0091e-04 - val_MSE: 7.0091e-04\n",
      "Epoch 64/150\n",
      "190549/190549 [==============================] - 25s 133us/sample - loss: 5.8542e-04 - MSE: 5.8542e-04 - val_loss: 6.2386e-04 - val_MSE: 6.2386e-04\n",
      "Epoch 65/150\n",
      "190549/190549 [==============================] - 25s 129us/sample - loss: 5.5236e-04 - MSE: 5.5236e-04 - val_loss: 5.8038e-04 - val_MSE: 5.8038e-04\n",
      "Epoch 66/150\n",
      "190549/190549 [==============================] - 25s 129us/sample - loss: 5.5621e-04 - MSE: 5.5621e-04 - val_loss: 7.0545e-04 - val_MSE: 7.0545e-04\n",
      "Epoch 67/150\n",
      "190549/190549 [==============================] - 25s 131us/sample - loss: 5.8864e-04 - MSE: 5.8864e-04 - val_loss: 5.9937e-04 - val_MSE: 5.9937e-04\n",
      "Epoch 68/150\n",
      "190549/190549 [==============================] - 24s 128us/sample - loss: 5.4319e-04 - MSE: 5.4319e-04 - val_loss: 5.6104e-04 - val_MSE: 5.6104e-04\n",
      "Epoch 69/150\n",
      "190549/190549 [==============================] - 25s 131us/sample - loss: 5.6801e-04 - MSE: 5.6801e-04 - val_loss: 5.6621e-04 - val_MSE: 5.6621e-04\n",
      "Epoch 70/150\n",
      "190549/190549 [==============================] - 24s 127us/sample - loss: 5.3304e-04 - MSE: 5.3304e-04 - val_loss: 8.1200e-04 - val_MSE: 8.1200e-04\n",
      "Epoch 71/150\n",
      "190549/190549 [==============================] - 24s 125us/sample - loss: 5.5652e-04 - MSE: 5.5652e-04 - val_loss: 6.3191e-04 - val_MSE: 6.3191e-04\n",
      "Epoch 72/150\n",
      "190549/190549 [==============================] - 25s 131us/sample - loss: 5.3524e-04 - MSE: 5.3524e-04 - val_loss: 5.5009e-04 - val_MSE: 5.5009e-04\n",
      "Epoch 73/150\n",
      "190549/190549 [==============================] - 25s 131us/sample - loss: 5.3162e-04 - MSE: 5.3162e-04 - val_loss: 6.8032e-04 - val_MSE: 6.8032e-04\n",
      "Epoch 74/150\n",
      "190549/190549 [==============================] - 24s 128us/sample - loss: 6.1142e-04 - MSE: 6.1142e-04 - val_loss: 5.3247e-04 - val_MSE: 5.3247e-04\n",
      "Epoch 75/150\n",
      "190549/190549 [==============================] - 24s 124us/sample - loss: 5.3837e-04 - MSE: 5.3837e-04 - val_loss: 5.2799e-04 - val_MSE: 5.2799e-04\n",
      "Epoch 76/150\n",
      "190549/190549 [==============================] - 23s 120us/sample - loss: 5.2829e-04 - MSE: 5.2829e-04 - val_loss: 6.8048e-04 - val_MSE: 6.8048e-04\n",
      "Epoch 77/150\n",
      "190549/190549 [==============================] - 24s 127us/sample - loss: 5.1608e-04 - MSE: 5.1608e-04 - val_loss: 5.7668e-04 - val_MSE: 5.7668e-04\n",
      "Epoch 78/150\n",
      "190549/190549 [==============================] - 24s 126us/sample - loss: 5.2893e-04 - MSE: 5.2893e-04 - val_loss: 5.5000e-04 - val_MSE: 5.5000e-04\n",
      "Epoch 79/150\n",
      "190549/190549 [==============================] - 25s 132us/sample - loss: 5.1379e-04 - MSE: 5.1379e-04 - val_loss: 5.1961e-04 - val_MSE: 5.1961e-04\n",
      "Epoch 80/150\n",
      "190549/190549 [==============================] - 25s 131us/sample - loss: 5.1833e-04 - MSE: 5.1833e-04 - val_loss: 6.1591e-04 - val_MSE: 6.1591e-04\n",
      "Epoch 81/150\n",
      "190549/190549 [==============================] - 29s 152us/sample - loss: 5.0966e-04 - MSE: 5.0966e-04 - val_loss: 5.5496e-04 - val_MSE: 5.5496e-04\n",
      "Epoch 82/150\n",
      "190549/190549 [==============================] - 26s 137us/sample - loss: 5.4267e-04 - MSE: 5.4267e-04 - val_loss: 5.4177e-04 - val_MSE: 5.4177e-04\n",
      "Epoch 83/150\n",
      "190549/190549 [==============================] - 24s 126us/sample - loss: 0.0021 - MSE: 0.0021 - val_loss: 0.0014 - val_MSE: 0.0014\n",
      "Epoch 84/150\n",
      "190549/190549 [==============================] - 26s 136us/sample - loss: 0.0013 - MSE: 0.0013 - val_loss: 0.0013 - val_MSE: 0.0013\n",
      "Epoch 85/150\n",
      "190549/190549 [==============================] - 25s 130us/sample - loss: 0.0012 - MSE: 0.0012 - val_loss: 0.0013 - val_MSE: 0.0013\n",
      "Epoch 86/150\n",
      "190549/190549 [==============================] - 25s 131us/sample - loss: 0.0012 - MSE: 0.0012 - val_loss: 0.0012 - val_MSE: 0.0012\n",
      "Epoch 87/150\n",
      "190549/190549 [==============================] - 26s 137us/sample - loss: 0.0012 - MSE: 0.0012 - val_loss: 0.0012 - val_MSE: 0.0012\n",
      "Epoch 88/150\n",
      "190549/190549 [==============================] - 24s 129us/sample - loss: 0.0012 - MSE: 0.0012 - val_loss: 0.0011 - val_MSE: 0.0011\n",
      "Epoch 89/150\n",
      "190549/190549 [==============================] - 25s 134us/sample - loss: 0.0011 - MSE: 0.0011 - val_loss: 0.0013 - val_MSE: 0.0013\n",
      "Epoch 90/150\n",
      "190549/190549 [==============================] - 24s 124us/sample - loss: 0.0011 - MSE: 0.0011 - val_loss: 0.0012 - val_MSE: 0.0012\n",
      "Epoch 91/150\n",
      "190549/190549 [==============================] - 25s 133us/sample - loss: 0.0011 - MSE: 0.0011 - val_loss: 0.0012 - val_MSE: 0.0012\n",
      "Epoch 92/150\n",
      "190549/190549 [==============================] - 24s 129us/sample - loss: 0.0011 - MSE: 0.0011 - val_loss: 0.0013 - val_MSE: 0.0013\n",
      "Epoch 93/150\n",
      "190549/190549 [==============================] - 26s 135us/sample - loss: 0.0013 - MSE: 0.0013 - val_loss: 0.0014 - val_MSE: 0.0014\n",
      "Epoch 94/150\n",
      "190549/190549 [==============================] - 23s 120us/sample - loss: 0.0011 - MSE: 0.0011 - val_loss: 0.0011 - val_MSE: 0.0011\n",
      "Epoch 95/150\n",
      "190549/190549 [==============================] - 28s 147us/sample - loss: 0.0011 - MSE: 0.0011 - val_loss: 0.0012 - val_MSE: 0.0012\n",
      "Epoch 96/150\n",
      " 46500/190549 [======>.......................] - ETA: 18s - loss: 0.0011 - MSE: 0.0011"
     ]
    },
    {
     "ename": "KeyboardInterrupt",
     "evalue": "",
     "output_type": "error",
     "traceback": [
      "\u001b[1;31m---------------------------------------------------------------------------\u001b[0m",
      "\u001b[1;31mKeyboardInterrupt\u001b[0m                         Traceback (most recent call last)",
      "\u001b[1;32m~\\AppData\\Local\\Temp\\ipykernel_19436\\739383122.py\u001b[0m in \u001b[0;36m<module>\u001b[1;34m\u001b[0m\n\u001b[1;32m----> 1\u001b[1;33m \u001b[0mhistory\u001b[0m\u001b[1;33m=\u001b[0m\u001b[0mvae\u001b[0m\u001b[1;33m.\u001b[0m\u001b[0mfit\u001b[0m\u001b[1;33m(\u001b[0m\u001b[0mdf\u001b[0m\u001b[1;33m,\u001b[0m\u001b[0mdf\u001b[0m\u001b[1;33m,\u001b[0m\u001b[0mepochs\u001b[0m\u001b[1;33m=\u001b[0m\u001b[0mnb_epochs\u001b[0m\u001b[1;33m,\u001b[0m \u001b[0mbatch_size\u001b[0m\u001b[1;33m=\u001b[0m\u001b[0mbatch_size\u001b[0m\u001b[1;33m,\u001b[0m  \u001b[0mvalidation_split\u001b[0m\u001b[1;33m=\u001b[0m\u001b[1;36m0.2\u001b[0m\u001b[1;33m)\u001b[0m\u001b[1;33m\u001b[0m\u001b[1;33m\u001b[0m\u001b[0m\n\u001b[0m",
      "\u001b[1;32m~\\Anaconda3\\envs\\daml\\lib\\site-packages\\keras\\engine\\training_v1.py\u001b[0m in \u001b[0;36mfit\u001b[1;34m(self, x, y, batch_size, epochs, verbose, callbacks, validation_split, validation_data, shuffle, class_weight, sample_weight, initial_epoch, steps_per_epoch, validation_steps, validation_freq, max_queue_size, workers, use_multiprocessing, **kwargs)\u001b[0m\n\u001b[0;32m    852\u001b[0m \u001b[1;33m\u001b[0m\u001b[0m\n\u001b[0;32m    853\u001b[0m         \u001b[0mfunc\u001b[0m \u001b[1;33m=\u001b[0m \u001b[0mself\u001b[0m\u001b[1;33m.\u001b[0m\u001b[0m_select_training_loop\u001b[0m\u001b[1;33m(\u001b[0m\u001b[0mx\u001b[0m\u001b[1;33m)\u001b[0m\u001b[1;33m\u001b[0m\u001b[1;33m\u001b[0m\u001b[0m\n\u001b[1;32m--> 854\u001b[1;33m         return func.fit(\n\u001b[0m\u001b[0;32m    855\u001b[0m             \u001b[0mself\u001b[0m\u001b[1;33m,\u001b[0m\u001b[1;33m\u001b[0m\u001b[1;33m\u001b[0m\u001b[0m\n\u001b[0;32m    856\u001b[0m             \u001b[0mx\u001b[0m\u001b[1;33m=\u001b[0m\u001b[0mx\u001b[0m\u001b[1;33m,\u001b[0m\u001b[1;33m\u001b[0m\u001b[1;33m\u001b[0m\u001b[0m\n",
      "\u001b[1;32m~\\Anaconda3\\envs\\daml\\lib\\site-packages\\keras\\engine\\training_arrays_v1.py\u001b[0m in \u001b[0;36mfit\u001b[1;34m(self, model, x, y, batch_size, epochs, verbose, callbacks, validation_split, validation_data, shuffle, class_weight, sample_weight, initial_epoch, steps_per_epoch, validation_steps, validation_freq, **kwargs)\u001b[0m\n\u001b[0;32m    732\u001b[0m             \u001b[0mval_x\u001b[0m\u001b[1;33m,\u001b[0m \u001b[0mval_y\u001b[0m\u001b[1;33m,\u001b[0m \u001b[0mval_sample_weights\u001b[0m \u001b[1;33m=\u001b[0m \u001b[1;32mNone\u001b[0m\u001b[1;33m,\u001b[0m \u001b[1;32mNone\u001b[0m\u001b[1;33m,\u001b[0m \u001b[1;32mNone\u001b[0m\u001b[1;33m\u001b[0m\u001b[1;33m\u001b[0m\u001b[0m\n\u001b[0;32m    733\u001b[0m \u001b[1;33m\u001b[0m\u001b[0m\n\u001b[1;32m--> 734\u001b[1;33m         return fit_loop(\n\u001b[0m\u001b[0;32m    735\u001b[0m             \u001b[0mmodel\u001b[0m\u001b[1;33m,\u001b[0m\u001b[1;33m\u001b[0m\u001b[1;33m\u001b[0m\u001b[0m\n\u001b[0;32m    736\u001b[0m             \u001b[0minputs\u001b[0m\u001b[1;33m=\u001b[0m\u001b[0mx\u001b[0m\u001b[1;33m,\u001b[0m\u001b[1;33m\u001b[0m\u001b[1;33m\u001b[0m\u001b[0m\n",
      "\u001b[1;32m~\\Anaconda3\\envs\\daml\\lib\\site-packages\\keras\\engine\\training_arrays_v1.py\u001b[0m in \u001b[0;36mmodel_iteration\u001b[1;34m(model, inputs, targets, sample_weights, batch_size, epochs, verbose, callbacks, val_inputs, val_targets, val_sample_weights, shuffle, initial_epoch, steps_per_epoch, validation_steps, validation_freq, mode, validation_in_fit, prepared_feed_values_from_dataset, steps_name, **kwargs)\u001b[0m\n\u001b[0;32m    419\u001b[0m \u001b[1;33m\u001b[0m\u001b[0m\n\u001b[0;32m    420\u001b[0m                 \u001b[1;31m# Get outputs.\u001b[0m\u001b[1;33m\u001b[0m\u001b[1;33m\u001b[0m\u001b[0m\n\u001b[1;32m--> 421\u001b[1;33m                 \u001b[0mbatch_outs\u001b[0m \u001b[1;33m=\u001b[0m \u001b[0mf\u001b[0m\u001b[1;33m(\u001b[0m\u001b[0mins_batch\u001b[0m\u001b[1;33m)\u001b[0m\u001b[1;33m\u001b[0m\u001b[1;33m\u001b[0m\u001b[0m\n\u001b[0m\u001b[0;32m    422\u001b[0m                 \u001b[1;32mif\u001b[0m \u001b[1;32mnot\u001b[0m \u001b[0misinstance\u001b[0m\u001b[1;33m(\u001b[0m\u001b[0mbatch_outs\u001b[0m\u001b[1;33m,\u001b[0m \u001b[0mlist\u001b[0m\u001b[1;33m)\u001b[0m\u001b[1;33m:\u001b[0m\u001b[1;33m\u001b[0m\u001b[1;33m\u001b[0m\u001b[0m\n\u001b[0;32m    423\u001b[0m                     \u001b[0mbatch_outs\u001b[0m \u001b[1;33m=\u001b[0m \u001b[1;33m[\u001b[0m\u001b[0mbatch_outs\u001b[0m\u001b[1;33m]\u001b[0m\u001b[1;33m\u001b[0m\u001b[1;33m\u001b[0m\u001b[0m\n",
      "\u001b[1;32m~\\Anaconda3\\envs\\daml\\lib\\site-packages\\keras\\backend.py\u001b[0m in \u001b[0;36m__call__\u001b[1;34m(self, inputs)\u001b[0m\n\u001b[0;32m   4579\u001b[0m             \u001b[0mself\u001b[0m\u001b[1;33m.\u001b[0m\u001b[0m_make_callable\u001b[0m\u001b[1;33m(\u001b[0m\u001b[0mfeed_arrays\u001b[0m\u001b[1;33m,\u001b[0m \u001b[0mfeed_symbols\u001b[0m\u001b[1;33m,\u001b[0m \u001b[0msymbol_vals\u001b[0m\u001b[1;33m,\u001b[0m \u001b[0msession\u001b[0m\u001b[1;33m)\u001b[0m\u001b[1;33m\u001b[0m\u001b[1;33m\u001b[0m\u001b[0m\n\u001b[0;32m   4580\u001b[0m \u001b[1;33m\u001b[0m\u001b[0m\n\u001b[1;32m-> 4581\u001b[1;33m         \u001b[0mfetched\u001b[0m \u001b[1;33m=\u001b[0m \u001b[0mself\u001b[0m\u001b[1;33m.\u001b[0m\u001b[0m_callable_fn\u001b[0m\u001b[1;33m(\u001b[0m\u001b[1;33m*\u001b[0m\u001b[0marray_vals\u001b[0m\u001b[1;33m,\u001b[0m \u001b[0mrun_metadata\u001b[0m\u001b[1;33m=\u001b[0m\u001b[0mself\u001b[0m\u001b[1;33m.\u001b[0m\u001b[0mrun_metadata\u001b[0m\u001b[1;33m)\u001b[0m\u001b[1;33m\u001b[0m\u001b[1;33m\u001b[0m\u001b[0m\n\u001b[0m\u001b[0;32m   4582\u001b[0m         \u001b[0mself\u001b[0m\u001b[1;33m.\u001b[0m\u001b[0m_call_fetch_callbacks\u001b[0m\u001b[1;33m(\u001b[0m\u001b[0mfetched\u001b[0m\u001b[1;33m[\u001b[0m\u001b[1;33m-\u001b[0m\u001b[0mlen\u001b[0m\u001b[1;33m(\u001b[0m\u001b[0mself\u001b[0m\u001b[1;33m.\u001b[0m\u001b[0m_fetches\u001b[0m\u001b[1;33m)\u001b[0m \u001b[1;33m:\u001b[0m\u001b[1;33m]\u001b[0m\u001b[1;33m)\u001b[0m\u001b[1;33m\u001b[0m\u001b[1;33m\u001b[0m\u001b[0m\n\u001b[0;32m   4583\u001b[0m         output_structure = tf.nest.pack_sequence_as(\n",
      "\u001b[1;32m~\\AppData\\Roaming\\Python\\Python39\\site-packages\\tensorflow\\python\\client\\session.py\u001b[0m in \u001b[0;36m__call__\u001b[1;34m(self, *args, **kwargs)\u001b[0m\n\u001b[0;32m   1479\u001b[0m       \u001b[1;32mtry\u001b[0m\u001b[1;33m:\u001b[0m\u001b[1;33m\u001b[0m\u001b[1;33m\u001b[0m\u001b[0m\n\u001b[0;32m   1480\u001b[0m         \u001b[0mrun_metadata_ptr\u001b[0m \u001b[1;33m=\u001b[0m \u001b[0mtf_session\u001b[0m\u001b[1;33m.\u001b[0m\u001b[0mTF_NewBuffer\u001b[0m\u001b[1;33m(\u001b[0m\u001b[1;33m)\u001b[0m \u001b[1;32mif\u001b[0m \u001b[0mrun_metadata\u001b[0m \u001b[1;32melse\u001b[0m \u001b[1;32mNone\u001b[0m\u001b[1;33m\u001b[0m\u001b[1;33m\u001b[0m\u001b[0m\n\u001b[1;32m-> 1481\u001b[1;33m         ret = tf_session.TF_SessionRunCallable(self._session._session,\n\u001b[0m\u001b[0;32m   1482\u001b[0m                                                \u001b[0mself\u001b[0m\u001b[1;33m.\u001b[0m\u001b[0m_handle\u001b[0m\u001b[1;33m,\u001b[0m \u001b[0margs\u001b[0m\u001b[1;33m,\u001b[0m\u001b[1;33m\u001b[0m\u001b[1;33m\u001b[0m\u001b[0m\n\u001b[0;32m   1483\u001b[0m                                                run_metadata_ptr)\n",
      "\u001b[1;31mKeyboardInterrupt\u001b[0m: "
     ]
    }
   ],
   "source": [
    "history=vae.fit(df,df,epochs=nb_epochs, batch_size=batch_size,  validation_split=0.2)"
   ]
  },
  {
   "cell_type": "code",
   "execution_count": 40,
   "id": "684837d6",
   "metadata": {},
   "outputs": [
    {
     "ename": "NameError",
     "evalue": "name 'x_test' is not defined",
     "output_type": "error",
     "traceback": [
      "\u001b[1;31m---------------------------------------------------------------------------\u001b[0m",
      "\u001b[1;31mNameError\u001b[0m                                 Traceback (most recent call last)",
      "\u001b[1;32m~\\AppData\\Local\\Temp\\ipykernel_19436\\2805421837.py\u001b[0m in \u001b[0;36m<module>\u001b[1;34m\u001b[0m\n\u001b[1;32m----> 1\u001b[1;33m \u001b[0mvae\u001b[0m\u001b[1;33m.\u001b[0m\u001b[0mevaluate\u001b[0m\u001b[1;33m(\u001b[0m\u001b[0mx_test\u001b[0m\u001b[1;33m,\u001b[0m\u001b[0mx_test\u001b[0m\u001b[1;33m)\u001b[0m\u001b[1;33m\u001b[0m\u001b[1;33m\u001b[0m\u001b[0m\n\u001b[0m",
      "\u001b[1;31mNameError\u001b[0m: name 'x_test' is not defined"
     ]
    }
   ],
   "source": [
    "vae.evaluate(x_test,x_test) #checking performance on test data"
   ]
  },
  {
   "cell_type": "code",
   "execution_count": 39,
   "id": "abb8d714",
   "metadata": {},
   "outputs": [
    {
     "data": {
      "image/png": "[encoded data removed]",
      "text/plain": [
       "<Figure size 640x480 with 1 Axes>"
      ]
     },
     "metadata": {},
     "output_type": "display_data"
    }
   ],
   "source": [
    "#checking loss as a function of epocs, Not very helpful in our analysis, as we are intrusted in anomly detection\n",
    "plt.plot(vae.history.history['loss'])\n",
    "plt.plot(vae.history.history['val_loss'])\n",
    "plt.title('model loss')\n",
    "plt.ylabel('loss')\n",
    "plt.xlabel('epoch')\n",
    "plt.legend(['train', 'validation'], loc='upper left')\n",
    "\n",
    "\n",
    "plt.show()"
   ]
  },
  {
   "cell_type": "code",
   "execution_count": 41,
   "id": "a893ce49",
   "metadata": {},
   "outputs": [],
   "source": [
    "vae.save('l30_1.6m.h5')#saving trained model"
   ]
  },
  {
   "cell_type": "code",
   "execution_count": null,
   "id": "d72c1cd6",
   "metadata": {},
   "outputs": [],
   "source": []
  },
  {
   "cell_type": "code",
   "execution_count": null,
   "id": "a790d27a",
   "metadata": {},
   "outputs": [],
   "source": []
  },
  {
   "cell_type": "code",
   "execution_count": null,
   "id": "0530ae56",
   "metadata": {},
   "outputs": [],
   "source": []
  },
  {
   "cell_type": "code",
   "execution_count": null,
   "id": "39682696",
   "metadata": {},
   "outputs": [],
   "source": []
  },
  {
   "cell_type": "code",
   "execution_count": null,
   "id": "829c084c",
   "metadata": {},
   "outputs": [],
   "source": []
  },
  {
   "cell_type": "code",
   "execution_count": null,
   "id": "2754f565",
   "metadata": {},
   "outputs": [],
   "source": []
  },
  {
   "cell_type": "code",
   "execution_count": null,
   "id": "3d664233",
   "metadata": {},
   "outputs": [],
   "source": []
  },
  {
   "cell_type": "code",
   "execution_count": null,
   "id": "7bcc30a5",
   "metadata": {},
   "outputs": [],
   "source": []
  },
  {
   "cell_type": "code",
   "execution_count": null,
   "id": "7fc33eeb",
   "metadata": {},
   "outputs": [],
   "source": []
  },
  {
   "cell_type": "code",
   "execution_count": null,
   "id": "ac60ff7e",
   "metadata": {},
   "outputs": [],
   "source": []
  },
  {
   "cell_type": "code",
   "execution_count": null,
   "id": "6e1d449f",
   "metadata": {},
   "outputs": [],
   "source": []
  },
  {
   "cell_type": "code",
   "execution_count": null,
   "id": "890a5830",
   "metadata": {},
   "outputs": [],
   "source": []
  },
  {
   "cell_type": "code",
   "execution_count": null,
   "id": "e6ffd536",
   "metadata": {},
   "outputs": [],
   "source": []
  },
  {
   "cell_type": "code",
   "execution_count": null,
   "id": "6b369121",
   "metadata": {},
   "outputs": [],
   "source": []
  },
  {
   "cell_type": "code",
   "execution_count": null,
   "id": "beabad1c",
   "metadata": {},
   "outputs": [],
   "source": []
  },
  {
   "cell_type": "code",
   "execution_count": null,
   "id": "2f5acc47",
   "metadata": {},
   "outputs": [],
   "source": []
  },
  {
   "cell_type": "code",
   "execution_count": null,
   "id": "0fa58770",
   "metadata": {},
   "outputs": [],
   "source": []
  }
 ],
 "metadata": {
  "kernelspec": {
   "display_name": "Python 3 (ipykernel)",
   "language": "python",
   "name": "python3"
  },
  "language_info": {
   "codemirror_mode": {
    "name": "ipython",
    "version": 3
   },
   "file_extension": ".py",
   "mimetype": "text/x-python",
   "name": "python",
   "nbconvert_exporter": "python",
   "pygments_lexer": "ipython3",
   "version": "3.9.13"
  }
 },
 "nbformat": 4,
 "nbformat_minor": 5
}
