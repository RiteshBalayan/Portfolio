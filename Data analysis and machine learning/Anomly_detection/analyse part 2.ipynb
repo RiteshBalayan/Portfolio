{
 "cells": [
  {
   "cell_type": "markdown",
   "id": "443452c1",
   "metadata": {},
   "source": [
    "# There is nothing important in code, Only two graphs are important which are discussed in details in PDF"
   ]
  },
  {
   "cell_type": "code",
   "execution_count": 2,
   "id": "16808d49",
   "metadata": {},
   "outputs": [],
   "source": [
    "import numpy as np\n",
    "import pandas as pd\n",
    "import tensorflow as tf\n",
    "import matplotlib.pyplot as plt\n",
    "from sklearn.model_selection import train_test_split\n",
    "from keras.models import load_model"
   ]
  },
  {
   "cell_type": "code",
   "execution_count": 5,
   "id": "c3bea656",
   "metadata": {},
   "outputs": [],
   "source": [
    "#d2sample = d2.sample(frac = 0.2)\n",
    "#dffrac10 = df.sample(frac = 0.1)  "
   ]
  },
  {
   "cell_type": "code",
   "execution_count": 52,
   "id": "e163bd54",
   "metadata": {},
   "outputs": [],
   "source": [
    "df = pd.read_csv('preprocessed_2/BackgrownTest.csv')\n",
    "d2 = pd.read_csv('preprocessed_2/gluno1000.csv')\n",
    "d3 = pd.read_csv('preprocessed_2/stpl.csv')\n",
    "d4 = pd.read_csv('preprocessed_2/cha300.csv')\n",
    "d5 = pd.read_csv('preprocessed_2/cha400.csv')\n",
    "d6 = pd.read_csv('preprocessed_2/cha600.csv')\n",
    "d7 = pd.read_csv('preprocessed_2/cha200.csv')\n",
    "d8 = pd.read_csv('preprocessed_2/cha250.csv')\n",
    "d9 = pd.read_csv('preprocessed_2/pp23.csv')\n",
    "d10 = pd.read_csv('preprocessed_2/pp24.csv')"
   ]
  },
  {
   "cell_type": "code",
   "execution_count": 3,
   "id": "9e830b1a",
   "metadata": {},
   "outputs": [
    {
     "ename": "FileNotFoundError",
     "evalue": "[Errno 2] No such file or directory: 'ishan.csv'",
     "output_type": "error",
     "traceback": [
      "\u001b[1;31m---------------------------------------------------------------------------\u001b[0m",
      "\u001b[1;31mFileNotFoundError\u001b[0m                         Traceback (most recent call last)",
      "\u001b[1;32m~\\AppData\\Local\\Temp\\ipykernel_19284\\2706373967.py\u001b[0m in \u001b[0;36m<module>\u001b[1;34m\u001b[0m\n\u001b[1;32m----> 1\u001b[1;33m \u001b[0mdf_ishan\u001b[0m \u001b[1;33m=\u001b[0m \u001b[0mpd\u001b[0m\u001b[1;33m.\u001b[0m\u001b[0mread_csv\u001b[0m\u001b[1;33m(\u001b[0m\u001b[1;34m'ishan.csv'\u001b[0m\u001b[1;33m)\u001b[0m\u001b[1;33m\u001b[0m\u001b[1;33m\u001b[0m\u001b[0m\n\u001b[0m",
      "\u001b[1;32m~\\Anaconda3\\envs\\daml\\lib\\site-packages\\pandas\\util\\_decorators.py\u001b[0m in \u001b[0;36mwrapper\u001b[1;34m(*args, **kwargs)\u001b[0m\n\u001b[0;32m    209\u001b[0m                 \u001b[1;32melse\u001b[0m\u001b[1;33m:\u001b[0m\u001b[1;33m\u001b[0m\u001b[1;33m\u001b[0m\u001b[0m\n\u001b[0;32m    210\u001b[0m                     \u001b[0mkwargs\u001b[0m\u001b[1;33m[\u001b[0m\u001b[0mnew_arg_name\u001b[0m\u001b[1;33m]\u001b[0m \u001b[1;33m=\u001b[0m \u001b[0mnew_arg_value\u001b[0m\u001b[1;33m\u001b[0m\u001b[1;33m\u001b[0m\u001b[0m\n\u001b[1;32m--> 211\u001b[1;33m             \u001b[1;32mreturn\u001b[0m \u001b[0mfunc\u001b[0m\u001b[1;33m(\u001b[0m\u001b[1;33m*\u001b[0m\u001b[0margs\u001b[0m\u001b[1;33m,\u001b[0m \u001b[1;33m**\u001b[0m\u001b[0mkwargs\u001b[0m\u001b[1;33m)\u001b[0m\u001b[1;33m\u001b[0m\u001b[1;33m\u001b[0m\u001b[0m\n\u001b[0m\u001b[0;32m    212\u001b[0m \u001b[1;33m\u001b[0m\u001b[0m\n\u001b[0;32m    213\u001b[0m         \u001b[1;32mreturn\u001b[0m \u001b[0mcast\u001b[0m\u001b[1;33m(\u001b[0m\u001b[0mF\u001b[0m\u001b[1;33m,\u001b[0m \u001b[0mwrapper\u001b[0m\u001b[1;33m)\u001b[0m\u001b[1;33m\u001b[0m\u001b[1;33m\u001b[0m\u001b[0m\n",
      "\u001b[1;32m~\\Anaconda3\\envs\\daml\\lib\\site-packages\\pandas\\util\\_decorators.py\u001b[0m in \u001b[0;36mwrapper\u001b[1;34m(*args, **kwargs)\u001b[0m\n\u001b[0;32m    315\u001b[0m                     \u001b[0mstacklevel\u001b[0m\u001b[1;33m=\u001b[0m\u001b[0mfind_stack_level\u001b[0m\u001b[1;33m(\u001b[0m\u001b[0minspect\u001b[0m\u001b[1;33m.\u001b[0m\u001b[0mcurrentframe\u001b[0m\u001b[1;33m(\u001b[0m\u001b[1;33m)\u001b[0m\u001b[1;33m)\u001b[0m\u001b[1;33m,\u001b[0m\u001b[1;33m\u001b[0m\u001b[1;33m\u001b[0m\u001b[0m\n\u001b[0;32m    316\u001b[0m                 )\n\u001b[1;32m--> 317\u001b[1;33m             \u001b[1;32mreturn\u001b[0m \u001b[0mfunc\u001b[0m\u001b[1;33m(\u001b[0m\u001b[1;33m*\u001b[0m\u001b[0margs\u001b[0m\u001b[1;33m,\u001b[0m \u001b[1;33m**\u001b[0m\u001b[0mkwargs\u001b[0m\u001b[1;33m)\u001b[0m\u001b[1;33m\u001b[0m\u001b[1;33m\u001b[0m\u001b[0m\n\u001b[0m\u001b[0;32m    318\u001b[0m \u001b[1;33m\u001b[0m\u001b[0m\n\u001b[0;32m    319\u001b[0m         \u001b[1;32mreturn\u001b[0m \u001b[0mwrapper\u001b[0m\u001b[1;33m\u001b[0m\u001b[1;33m\u001b[0m\u001b[0m\n",
      "\u001b[1;32m~\\Anaconda3\\envs\\daml\\lib\\site-packages\\pandas\\io\\parsers\\readers.py\u001b[0m in \u001b[0;36mread_csv\u001b[1;34m(filepath_or_buffer, sep, delimiter, header, names, index_col, usecols, squeeze, prefix, mangle_dupe_cols, dtype, engine, converters, true_values, false_values, skipinitialspace, skiprows, skipfooter, nrows, na_values, keep_default_na, na_filter, verbose, skip_blank_lines, parse_dates, infer_datetime_format, keep_date_col, date_parser, dayfirst, cache_dates, iterator, chunksize, compression, thousands, decimal, lineterminator, quotechar, quoting, doublequote, escapechar, comment, encoding, encoding_errors, dialect, error_bad_lines, warn_bad_lines, on_bad_lines, delim_whitespace, low_memory, memory_map, float_precision, storage_options)\u001b[0m\n\u001b[0;32m    948\u001b[0m     \u001b[0mkwds\u001b[0m\u001b[1;33m.\u001b[0m\u001b[0mupdate\u001b[0m\u001b[1;33m(\u001b[0m\u001b[0mkwds_defaults\u001b[0m\u001b[1;33m)\u001b[0m\u001b[1;33m\u001b[0m\u001b[1;33m\u001b[0m\u001b[0m\n\u001b[0;32m    949\u001b[0m \u001b[1;33m\u001b[0m\u001b[0m\n\u001b[1;32m--> 950\u001b[1;33m     \u001b[1;32mreturn\u001b[0m \u001b[0m_read\u001b[0m\u001b[1;33m(\u001b[0m\u001b[0mfilepath_or_buffer\u001b[0m\u001b[1;33m,\u001b[0m \u001b[0mkwds\u001b[0m\u001b[1;33m)\u001b[0m\u001b[1;33m\u001b[0m\u001b[1;33m\u001b[0m\u001b[0m\n\u001b[0m\u001b[0;32m    951\u001b[0m \u001b[1;33m\u001b[0m\u001b[0m\n\u001b[0;32m    952\u001b[0m \u001b[1;33m\u001b[0m\u001b[0m\n",
      "\u001b[1;32m~\\Anaconda3\\envs\\daml\\lib\\site-packages\\pandas\\io\\parsers\\readers.py\u001b[0m in \u001b[0;36m_read\u001b[1;34m(filepath_or_buffer, kwds)\u001b[0m\n\u001b[0;32m    603\u001b[0m \u001b[1;33m\u001b[0m\u001b[0m\n\u001b[0;32m    604\u001b[0m     \u001b[1;31m# Create the parser.\u001b[0m\u001b[1;33m\u001b[0m\u001b[1;33m\u001b[0m\u001b[0m\n\u001b[1;32m--> 605\u001b[1;33m     \u001b[0mparser\u001b[0m \u001b[1;33m=\u001b[0m \u001b[0mTextFileReader\u001b[0m\u001b[1;33m(\u001b[0m\u001b[0mfilepath_or_buffer\u001b[0m\u001b[1;33m,\u001b[0m \u001b[1;33m**\u001b[0m\u001b[0mkwds\u001b[0m\u001b[1;33m)\u001b[0m\u001b[1;33m\u001b[0m\u001b[1;33m\u001b[0m\u001b[0m\n\u001b[0m\u001b[0;32m    606\u001b[0m \u001b[1;33m\u001b[0m\u001b[0m\n\u001b[0;32m    607\u001b[0m     \u001b[1;32mif\u001b[0m \u001b[0mchunksize\u001b[0m \u001b[1;32mor\u001b[0m \u001b[0miterator\u001b[0m\u001b[1;33m:\u001b[0m\u001b[1;33m\u001b[0m\u001b[1;33m\u001b[0m\u001b[0m\n",
      "\u001b[1;32m~\\Anaconda3\\envs\\daml\\lib\\site-packages\\pandas\\io\\parsers\\readers.py\u001b[0m in \u001b[0;36m__init__\u001b[1;34m(self, f, engine, **kwds)\u001b[0m\n\u001b[0;32m   1440\u001b[0m \u001b[1;33m\u001b[0m\u001b[0m\n\u001b[0;32m   1441\u001b[0m         \u001b[0mself\u001b[0m\u001b[1;33m.\u001b[0m\u001b[0mhandles\u001b[0m\u001b[1;33m:\u001b[0m \u001b[0mIOHandles\u001b[0m \u001b[1;33m|\u001b[0m \u001b[1;32mNone\u001b[0m \u001b[1;33m=\u001b[0m \u001b[1;32mNone\u001b[0m\u001b[1;33m\u001b[0m\u001b[1;33m\u001b[0m\u001b[0m\n\u001b[1;32m-> 1442\u001b[1;33m         \u001b[0mself\u001b[0m\u001b[1;33m.\u001b[0m\u001b[0m_engine\u001b[0m \u001b[1;33m=\u001b[0m \u001b[0mself\u001b[0m\u001b[1;33m.\u001b[0m\u001b[0m_make_engine\u001b[0m\u001b[1;33m(\u001b[0m\u001b[0mf\u001b[0m\u001b[1;33m,\u001b[0m \u001b[0mself\u001b[0m\u001b[1;33m.\u001b[0m\u001b[0mengine\u001b[0m\u001b[1;33m)\u001b[0m\u001b[1;33m\u001b[0m\u001b[1;33m\u001b[0m\u001b[0m\n\u001b[0m\u001b[0;32m   1443\u001b[0m \u001b[1;33m\u001b[0m\u001b[0m\n\u001b[0;32m   1444\u001b[0m     \u001b[1;32mdef\u001b[0m \u001b[0mclose\u001b[0m\u001b[1;33m(\u001b[0m\u001b[0mself\u001b[0m\u001b[1;33m)\u001b[0m \u001b[1;33m->\u001b[0m \u001b[1;32mNone\u001b[0m\u001b[1;33m:\u001b[0m\u001b[1;33m\u001b[0m\u001b[1;33m\u001b[0m\u001b[0m\n",
      "\u001b[1;32m~\\Anaconda3\\envs\\daml\\lib\\site-packages\\pandas\\io\\parsers\\readers.py\u001b[0m in \u001b[0;36m_make_engine\u001b[1;34m(self, f, engine)\u001b[0m\n\u001b[0;32m   1727\u001b[0m                 \u001b[0mis_text\u001b[0m \u001b[1;33m=\u001b[0m \u001b[1;32mFalse\u001b[0m\u001b[1;33m\u001b[0m\u001b[1;33m\u001b[0m\u001b[0m\n\u001b[0;32m   1728\u001b[0m                 \u001b[0mmode\u001b[0m \u001b[1;33m=\u001b[0m \u001b[1;34m\"rb\"\u001b[0m\u001b[1;33m\u001b[0m\u001b[1;33m\u001b[0m\u001b[0m\n\u001b[1;32m-> 1729\u001b[1;33m             self.handles = get_handle(\n\u001b[0m\u001b[0;32m   1730\u001b[0m                 \u001b[0mf\u001b[0m\u001b[1;33m,\u001b[0m\u001b[1;33m\u001b[0m\u001b[1;33m\u001b[0m\u001b[0m\n\u001b[0;32m   1731\u001b[0m                 \u001b[0mmode\u001b[0m\u001b[1;33m,\u001b[0m\u001b[1;33m\u001b[0m\u001b[1;33m\u001b[0m\u001b[0m\n",
      "\u001b[1;32m~\\Anaconda3\\envs\\daml\\lib\\site-packages\\pandas\\io\\common.py\u001b[0m in \u001b[0;36mget_handle\u001b[1;34m(path_or_buf, mode, encoding, compression, memory_map, is_text, errors, storage_options)\u001b[0m\n\u001b[0;32m    855\u001b[0m         \u001b[1;32mif\u001b[0m \u001b[0mioargs\u001b[0m\u001b[1;33m.\u001b[0m\u001b[0mencoding\u001b[0m \u001b[1;32mand\u001b[0m \u001b[1;34m\"b\"\u001b[0m \u001b[1;32mnot\u001b[0m \u001b[1;32min\u001b[0m \u001b[0mioargs\u001b[0m\u001b[1;33m.\u001b[0m\u001b[0mmode\u001b[0m\u001b[1;33m:\u001b[0m\u001b[1;33m\u001b[0m\u001b[1;33m\u001b[0m\u001b[0m\n\u001b[0;32m    856\u001b[0m             \u001b[1;31m# Encoding\u001b[0m\u001b[1;33m\u001b[0m\u001b[1;33m\u001b[0m\u001b[0m\n\u001b[1;32m--> 857\u001b[1;33m             handle = open(\n\u001b[0m\u001b[0;32m    858\u001b[0m                 \u001b[0mhandle\u001b[0m\u001b[1;33m,\u001b[0m\u001b[1;33m\u001b[0m\u001b[1;33m\u001b[0m\u001b[0m\n\u001b[0;32m    859\u001b[0m                 \u001b[0mioargs\u001b[0m\u001b[1;33m.\u001b[0m\u001b[0mmode\u001b[0m\u001b[1;33m,\u001b[0m\u001b[1;33m\u001b[0m\u001b[1;33m\u001b[0m\u001b[0m\n",
      "\u001b[1;31mFileNotFoundError\u001b[0m: [Errno 2] No such file or directory: 'ishan.csv'"
     ]
    }
   ],
   "source": [
    "df_ishan = pd.read_csv('ishan.csv')"
   ]
  },
  {
   "cell_type": "code",
   "execution_count": 53,
   "id": "dbe032e7",
   "metadata": {},
   "outputs": [],
   "source": [
    "data= [df,d2,d3,d4,d5,d6,d7,d8,d9,d10]"
   ]
  },
  {
   "cell_type": "code",
   "execution_count": 120,
   "id": "ce73fe8b",
   "metadata": {},
   "outputs": [],
   "source": [
    "M1 = load_model('l3_new.h5')\n",
    "M2 = load_model('l10_new.h5')\n",
    "M3 = load_model('l30_new.h5')"
   ]
  },
  {
   "cell_type": "code",
   "execution_count": 121,
   "id": "e8d12e02",
   "metadata": {},
   "outputs": [
    {
     "name": "stdout",
     "output_type": "stream",
     "text": [
      "3191/3191 [==============================] - 20s 6ms/step - loss: 0.0099 - mean_squared_error: 0.0099\n",
      "1830/1830 [==============================] - 12s 7ms/step - loss: 0.0456 - mean_squared_error: 0.0456\n",
      "426/426 [==============================] - 3s 7ms/step - loss: 0.0366 - mean_squared_error: 0.0366\n",
      "21/21 [==============================] - 0s 7ms/step - loss: 0.0109 - mean_squared_error: 0.0109\n",
      "27/27 [==============================] - 0s 6ms/step - loss: 0.0145 - mean_squared_error: 0.0145\n",
      "38/38 [==============================] - 0s 7ms/step - loss: 0.0142 - mean_squared_error: 0.0142\n",
      "48/48 [==============================] - 0s 7ms/step - loss: 0.0127 - mean_squared_error: 0.0127\n",
      "43/43 [==============================] - 0s 7ms/step - loss: 0.0116 - mean_squared_error: 0.0116\n",
      "107/107 [==============================] - 1s 7ms/step - loss: 0.0091 - mean_squared_error: 0.0091\n",
      "266/266 [==============================] - 2s 6ms/step - loss: 0.0136 - mean_squared_error: 0.0136\n",
      "3191/3191 [==============================] - 20s 6ms/step - loss: 0.0039 - mean_squared_error: 0.0039\n",
      "1830/1830 [==============================] - 12s 7ms/step - loss: 0.0439 - mean_squared_error: 0.0439\n",
      "426/426 [==============================] - 3s 6ms/step - loss: 0.0254 - mean_squared_error: 0.0254\n",
      "21/21 [==============================] - 0s 7ms/step - loss: 0.0051 - mean_squared_error: 0.0051\n",
      "27/27 [==============================] - 0s 7ms/step - loss: 0.0069 - mean_squared_error: 0.0069\n",
      "38/38 [==============================] - 0s 8ms/step - loss: 0.0070 - mean_squared_error: 0.0070\n",
      "48/48 [==============================] - 0s 7ms/step - loss: 0.0068 - mean_squared_error: 0.0068\n",
      "43/43 [==============================] - 0s 7ms/step - loss: 0.0064 - mean_squared_error: 0.0064\n",
      "107/107 [==============================] - 1s 7ms/step - loss: 0.0042 - mean_squared_error: 0.0042\n",
      "266/266 [==============================] - 2s 6ms/step - loss: 0.0078 - mean_squared_error: 0.0078\n",
      "3191/3191 [==============================] - 21s 7ms/step - loss: 7.3801e-04 - mean_squared_error: 7.3801e-04\n",
      "1830/1830 [==============================] - 11s 6ms/step - loss: 0.0294 - mean_squared_error: 0.0294\n",
      "426/426 [==============================] - 3s 6ms/step - loss: 0.0117 - mean_squared_error: 0.0117\n",
      "21/21 [==============================] - 0s 7ms/step - loss: 0.0010 - mean_squared_error: 0.0010\n",
      "27/27 [==============================] - 0s 7ms/step - loss: 0.0016 - mean_squared_error: 0.0016\n",
      "38/38 [==============================] - 0s 7ms/step - loss: 0.0014 - mean_squared_error: 0.0014\n",
      "48/48 [==============================] - 0s 7ms/step - loss: 0.0020 - mean_squared_error: 0.0020\n",
      "43/43 [==============================] - 0s 7ms/step - loss: 0.0017 - mean_squared_error: 0.0017\n",
      "107/107 [==============================] - 1s 6ms/step - loss: 0.0011 - mean_squared_error: 0.0011\n",
      "266/266 [==============================] - 2s 6ms/step - loss: 0.0023 - mean_squared_error: 0.0023\n"
     ]
    }
   ],
   "source": [
    "M1_0=M1.evaluate(df,df)\n",
    "M1_2=M1.evaluate(d2,d2)\n",
    "M1_3=M1.evaluate(d3,d3)\n",
    "M1_4=M1.evaluate(d4,d4)\n",
    "M1_5=M1.evaluate(d5,d5)\n",
    "M1_6=M1.evaluate(d6,d6)\n",
    "M1_7=M1.evaluate(d7,d7)\n",
    "M1_8=M1.evaluate(d8,d8)\n",
    "M1_9=M1.evaluate(d9,d9)\n",
    "M1_10=M1.evaluate(d10,d10)\n",
    "M2_0=M2.evaluate(df,df)\n",
    "M2_2=M2.evaluate(d2,d2)\n",
    "M2_3=M2.evaluate(d3,d3)\n",
    "M2_4=M2.evaluate(d4,d4)\n",
    "M2_5=M2.evaluate(d5,d5)\n",
    "M2_6=M2.evaluate(d6,d6)\n",
    "M2_7=M2.evaluate(d7,d7)\n",
    "M2_8=M2.evaluate(d8,d8)\n",
    "M2_9=M2.evaluate(d9,d9)\n",
    "M2_10=M2.evaluate(d10,d10)\n",
    "M3_0=M3.evaluate(df,df)\n",
    "M3_2=M3.evaluate(d2,d2)\n",
    "M3_3=M3.evaluate(d3,d3)\n",
    "M3_4=M3.evaluate(d4,d4)\n",
    "M3_5=M3.evaluate(d5,d5)\n",
    "M3_6=M3.evaluate(d6,d6)\n",
    "M3_7=M3.evaluate(d7,d7)\n",
    "M3_8=M3.evaluate(d8,d8)\n",
    "M3_9=M3.evaluate(d9,d9)\n",
    "M3_10=M3.evaluate(d10,d10)"
   ]
  },
  {
   "cell_type": "code",
   "execution_count": 128,
   "id": "a941b5f4",
   "metadata": {},
   "outputs": [
    {
     "data": {
      "image/png": "[encoded data removed]",
      "text/plain": [
       "<Figure size 2000x800 with 3 Axes>"
      ]
     },
     "metadata": {},
     "output_type": "display_data"
    }
   ],
   "source": [
    "# Combine the elements of each list to create the y values for each line plot\n",
    "Performance1=[M1_0[0],M1_2[0],M1_3[0],M1_4[0],M1_5[0],M1_6[0],M1_7[0],M1_8[0],M1_9[0],M1_10[0]]\n",
    "Performance2=[M2_0[0],M2_2[0],M2_3[0],M2_4[0],M2_5[0],M2_6[0],M2_7[0],M2_8[0],M2_9[0],M2_10[0]]\n",
    "Performance3=[M3_0[0],M3_2[0],M3_3[0],M3_4[0],M3_5[0],M3_6[0],M3_7[0],M3_8[0],M3_9[0],M3_10[0]]\n",
    "\n",
    "x = ['B','G','S','c3','c4','c6','c2','c2.5','p3','p4']\n",
    "\n",
    "\n",
    "# Create the figure and axis objects\n",
    "fig, axs = plt.subplots(1, 3, figsize=(20, 8))\n",
    "\n",
    "# Plot the histograms\n",
    "axs[0].bar(x,Performance1)\n",
    "axs[0].set_title(\"latent 3\")\n",
    "axs[1].bar(x,Performance2)\n",
    "axs[1].set_title(\"latent 10\")\n",
    "axs[2].bar(x,Performance3)\n",
    "axs[2].set_title(\"latent 30\")\n",
    "\n",
    "\n",
    "# Adjust the spacing between the subplots\n",
    "plt.subplots_adjust(hspace=0.5, wspace=0.3)\n",
    "\n",
    "fig.suptitle(\"Loss in different bottleneck\")\n",
    "\n",
    "\n",
    "\n",
    "# Show the plot\n",
    "plt.show()"
   ]
  },
  {
   "cell_type": "code",
   "execution_count": 129,
   "id": "ced91fcb",
   "metadata": {},
   "outputs": [],
   "source": [
    "def binary_crossentropy (img_in, img_out):\n",
    "    assert img_in.shape == img_out.shape\n",
    "    eps = np.finfo(float).eps\n",
    "    img_out = np.clip(img_out, eps, 1. - eps)\n",
    "    #return ((img_in - img_out)**2)\n",
    "    return      - (img_in * np.log(img_out) + (1 - img_in) * np.log(1 - img_out))"
   ]
  },
  {
   "cell_type": "code",
   "execution_count": 130,
   "id": "45c38b19",
   "metadata": {},
   "outputs": [],
   "source": [
    "def difference (img_in, img_out):\n",
    "    return binary_crossentropy(img_in, img_out).mean(axis=(1))"
   ]
  },
  {
   "cell_type": "code",
   "execution_count": 131,
   "id": "d13d8e1d",
   "metadata": {},
   "outputs": [
    {
     "name": "stdout",
     "output_type": "stream",
     "text": [
      "3191/3191 [==============================] - 18s 6ms/step\n",
      "1830/1830 [==============================] - 11s 6ms/step\n",
      "426/426 [==============================] - 3s 6ms/step\n",
      "21/21 [==============================] - 0s 6ms/step\n",
      "27/27 [==============================] - 0s 6ms/step\n",
      "38/38 [==============================] - 0s 6ms/step\n",
      "48/48 [==============================] - 0s 6ms/step\n",
      "43/43 [==============================] - 0s 6ms/step\n",
      "107/107 [==============================] - 1s 6ms/step\n",
      "266/266 [==============================] - 2s 6ms/step\n",
      "3191/3191 [==============================] - 20s 6ms/step\n",
      "1830/1830 [==============================] - 13s 7ms/step\n",
      "426/426 [==============================] - 3s 7ms/step\n",
      "21/21 [==============================] - 0s 8ms/step\n",
      "27/27 [==============================] - 0s 7ms/step\n",
      "38/38 [==============================] - 0s 7ms/step\n",
      "48/48 [==============================] - 0s 7ms/step\n",
      "43/43 [==============================] - 0s 7ms/step\n",
      "107/107 [==============================] - 1s 6ms/step\n",
      "266/266 [==============================] - 2s 7ms/step\n",
      "3191/3191 [==============================] - 22s 7ms/step\n",
      "1830/1830 [==============================] - 13s 7ms/step\n",
      "426/426 [==============================] - 3s 6ms/step\n",
      "21/21 [==============================] - 0s 7ms/step\n",
      "27/27 [==============================] - 0s 7ms/step\n",
      "38/38 [==============================] - 0s 7ms/step\n",
      "48/48 [==============================] - 0s 8ms/step\n",
      "43/43 [==============================] - 0s 9ms/step\n",
      "107/107 [==============================] - 1s 6ms/step\n",
      "266/266 [==============================] - 2s 7ms/step\n"
     ]
    }
   ],
   "source": [
    "M1_D0=M1.predict(df)\n",
    "M1_D2=M1.predict(d2)\n",
    "M1_D3=M1.predict(d3)\n",
    "M1_D4=M1.predict(d4)\n",
    "M1_D5=M1.predict(d5)\n",
    "M1_D6=M1.predict(d6)\n",
    "M1_D7=M1.predict(d7)\n",
    "M1_D8=M1.predict(d8)\n",
    "M1_D9=M1.predict(d9)\n",
    "M1_D10=M1.predict(d10)\n",
    "M2_D0=M2.predict(df)\n",
    "M2_D2=M2.predict(d2)\n",
    "M2_D3=M2.predict(d3)\n",
    "M2_D4=M2.predict(d4)\n",
    "M2_D5=M2.predict(d5)\n",
    "M2_D6=M2.predict(d6)\n",
    "M2_D7=M2.predict(d7)\n",
    "M2_D8=M2.predict(d8)\n",
    "M2_D9=M2.predict(d9)\n",
    "M2_D10=M2.predict(d10)\n",
    "M3_D0=M3.predict(df)\n",
    "M3_D2=M3.predict(d2)\n",
    "M3_D3=M3.predict(d3)\n",
    "M3_D4=M3.predict(d4)\n",
    "M3_D5=M3.predict(d5)\n",
    "M3_D6=M3.predict(d6)\n",
    "M3_D7=M3.predict(d7)\n",
    "M3_D8=M3.predict(d8)\n",
    "M3_D9=M3.predict(d9)\n",
    "M3_D10=M3.predict(d10)"
   ]
  },
  {
   "cell_type": "code",
   "execution_count": 132,
   "id": "18750a17",
   "metadata": {},
   "outputs": [
    {
     "name": "stderr",
     "output_type": "stream",
     "text": [
      "C:\\Users\\balay\\AppData\\Local\\Temp\\ipykernel_14944\\79627275.py:6: RuntimeWarning: divide by zero encountered in log\n",
      "  return      - (img_in * np.log(img_out) + (1 - img_in) * np.log(1 - img_out))\n"
     ]
    }
   ],
   "source": [
    "S1_D0   = difference(df, M1_D0)\n",
    "S1_D2    = difference(d2, M1_D2)\n",
    "S1_D3   = difference(d3, M1_D3)\n",
    "S1_D4   = difference(d4, M1_D4)\n",
    "S1_D5   = difference(d5, M1_D5)\n",
    "S1_D6   = difference(d6, M1_D6)\n",
    "S1_D7   = difference(d7, M1_D7)\n",
    "S1_D8   = difference(d8, M1_D8)\n",
    "S1_D9   = difference(d9, M1_D9)\n",
    "S1_D10   = difference(d10, M1_D10)\n",
    "S2_D0   = difference(df, M2_D0)\n",
    "S2_D2    = difference(d2, M2_D2)\n",
    "S2_D3   = difference(d3, M2_D3)\n",
    "S2_D4   = difference(d4, M2_D4)\n",
    "S2_D5   = difference(d5, M2_D5)\n",
    "S2_D6   = difference(d6, M2_D6)\n",
    "S2_D7   = difference(d7, M2_D7)\n",
    "S2_D8   = difference(d8, M2_D8)\n",
    "S2_D9   = difference(d9, M2_D9)\n",
    "S2_D10   = difference(d10, M2_D10)\n",
    "S3_D0   = difference(df, M3_D0)\n",
    "S3_D2    = difference(d2, M3_D2)\n",
    "S3_D3   = difference(d3, M3_D3)\n",
    "S3_D4   = difference(d4, M3_D4)\n",
    "S3_D5   = difference(d5, M3_D5)\n",
    "S3_D6   = difference(d6, M3_D6)\n",
    "S3_D7   = difference(d7, M3_D7)\n",
    "S3_D8   = difference(d8, M3_D8)\n",
    "S3_D9   = difference(d9, M3_D9)\n",
    "S3_D10   = difference(d10, M3_D10)"
   ]
  },
  {
   "cell_type": "code",
   "execution_count": 133,
   "id": "dee50b44",
   "metadata": {},
   "outputs": [],
   "source": [
    "import random"
   ]
  },
  {
   "cell_type": "code",
   "execution_count": 134,
   "id": "416ce5ca",
   "metadata": {},
   "outputs": [],
   "source": [
    "N1_D0   = random.sample(S1_D0.values.tolist(), 500)\n",
    "N1_D2   = random.sample(S1_D2.values.tolist(), 500)\n",
    "N1_D3   = random.sample(S1_D3.values.tolist(), 500)\n",
    "N1_D4   = random.sample(S1_D4.values.tolist(), 500)\n",
    "N1_D5   = random.sample(S1_D5.values.tolist(), 500)\n",
    "N1_D6   = random.sample(S1_D6.values.tolist(), 500)\n",
    "N1_D7   = random.sample(S1_D7.values.tolist(), 500)\n",
    "N1_D8   = random.sample(S1_D8.values.tolist(), 500)\n",
    "N1_D9   = random.sample(S1_D9.values.tolist(), 500)\n",
    "N1_D10   = random.sample(S1_D10.values.tolist(), 500)\n",
    "\n",
    "N2_D0   = random.sample(S2_D0.values.tolist(), 500)\n",
    "N2_D2   = random.sample(S2_D2.values.tolist(), 500)\n",
    "N2_D3   = random.sample(S2_D3.values.tolist(), 500)\n",
    "N2_D4   = random.sample(S2_D4.values.tolist(), 500)\n",
    "N2_D5   = random.sample(S2_D5.values.tolist(), 500)\n",
    "N2_D6   = random.sample(S2_D6.values.tolist(), 500)\n",
    "N2_D7   = random.sample(S2_D7.values.tolist(), 500)\n",
    "N2_D8   = random.sample(S2_D8.values.tolist(), 500)\n",
    "N2_D9   = random.sample(S2_D9.values.tolist(), 500)\n",
    "N2_D10   = random.sample(S2_D10.values.tolist(), 500)\n",
    "\n",
    "N3_D0   = random.sample(S3_D0.values.tolist(), 500)\n",
    "N3_D2   = random.sample(S3_D2.values.tolist(), 500)\n",
    "N3_D3   = random.sample(S3_D3.values.tolist(), 500)\n",
    "N3_D4   = random.sample(S3_D4.values.tolist(), 500)\n",
    "N3_D5   = random.sample(S3_D5.values.tolist(), 500)\n",
    "N3_D6   = random.sample(S3_D6.values.tolist(), 500)\n",
    "N3_D7   = random.sample(S3_D7.values.tolist(), 500)\n",
    "N3_D8   = random.sample(S3_D8.values.tolist(), 500)\n",
    "N3_D9   = random.sample(S3_D9.values.tolist(), 500)\n",
    "N3_D10   = random.sample(S3_D10.values.tolist(), 500)"
   ]
  },
  {
   "cell_type": "code",
   "execution_count": 139,
   "id": "51def700",
   "metadata": {},
   "outputs": [
    {
     "data": {
      "image/png": "[encoded data removed]",
      "text/plain": [
       "<Figure size 1200x800 with 6 Axes>"
      ]
     },
     "metadata": {},
     "output_type": "display_data"
    }
   ],
   "source": [
    "# Create the figure and axis objects\n",
    "fig, axs = plt.subplots(2, 3, figsize=(12, 8))\n",
    "bins = np.logspace(-0.45, .4, 200+1)\n",
    "\n",
    "# Plot the histograms\n",
    "axs[0, 0].hist(N1_D0, bins=bins, alpha=0.5, color='k')\n",
    "axs[0, 0].hist(N1_D2, bins=bins, alpha=0.5, color='yellow')\n",
    "axs[0, 0].hist(N1_D3, bins=bins, alpha=0.5, color='yellow')\n",
    "axs[0, 0].hist(N1_D4, bins=bins, alpha=0.5, color='red')\n",
    "axs[0, 0].hist(N1_D5, bins=bins, alpha=0.5, color='red')\n",
    "axs[0, 0].hist(N1_D6, bins=bins, alpha=0.5, color='red')\n",
    "axs[0, 0].hist(N1_D7, bins=bins, alpha=0.5, color='cyan')\n",
    "axs[0, 0].hist(N1_D8, bins=bins, alpha=0.5, color='cyan')\n",
    "axs[0, 0].hist(N1_D9, bins=bins, alpha=0.5, color='blue')\n",
    "axs[0, 0].hist(N1_D10, bins=bins, alpha=0.5, color='blue')\n",
    "axs[0, 0].set_title(\"latent 3\")\n",
    "#axs[0, 0].xscale('log')\n",
    "\n",
    "\n",
    "axs[0, 1].hist(N2_D0, bins=bins, alpha=0.5, color='k')\n",
    "axs[0, 1].hist(N2_D2, bins=bins, alpha=0.5, color='yellow')\n",
    "axs[0, 1].hist(N2_D3, bins=bins, alpha=0.5, color='yellow')\n",
    "axs[0, 1].hist(N2_D4, bins=bins, alpha=0.5, color='red')\n",
    "axs[0, 1].hist(N2_D5, bins=bins, alpha=0.5, color='red')\n",
    "axs[0, 1].hist(N2_D6, bins=bins, alpha=0.5, color='red')\n",
    "axs[0, 1].hist(N2_D7, bins=bins, alpha=0.5, color='cyan')\n",
    "axs[0, 1].hist(N2_D8, bins=bins, alpha=0.5, color='cyan')\n",
    "axs[0, 1].hist(N2_D9, bins=bins, alpha=0.5, color='blue')\n",
    "axs[0, 1].hist(N2_D10, bins=bins, alpha=0.5, color='blue')\n",
    "axs[0, 1].set_title(\"latent 10\")\n",
    "#axs[0, 1].xscale('log')\n",
    "\n",
    "\n",
    "\n",
    "axs[0, 2].hist(N3_D0, bins=bins, alpha=0.5, color='k')\n",
    "axs[0, 2].hist(N3_D2, bins=bins, alpha=0.5, color='yellow')\n",
    "axs[0, 2].hist(N3_D3, bins=bins, alpha=0.5, color='yellow')\n",
    "axs[0, 2].hist(N3_D4, bins=bins, alpha=0.5, color='red')\n",
    "axs[0, 2].hist(N3_D5, bins=bins, alpha=0.5, color='red')\n",
    "axs[0, 2].hist(N3_D6, bins=bins, alpha=0.5, color='red')\n",
    "axs[0, 2].hist(N3_D7, bins=bins, alpha=0.5, color='cyan')\n",
    "axs[0, 2].hist(N3_D8, bins=bins, alpha=0.5, color='cyan')\n",
    "axs[0, 2].hist(N3_D9, bins=bins, alpha=0.5, color='blue')\n",
    "axs[0, 2].hist(N3_D10, bins=bins, alpha=0.5, color='blue')\n",
    "axs[0, 2].set_title(\"latent 30\")\n",
    "#axs[0, 2].xscale('log')\n",
    "\n",
    "\n",
    "\n",
    "axs[1, 0].hist(N1_D0, bins=bins, alpha=1, color='k')\n",
    "\n",
    "#axs[1, 0].xscale('log')\n",
    "\n",
    "\n",
    "\n",
    "axs[1, 1].hist(N2_D0, bins=bins, alpha=1, color='k')\n",
    "\n",
    "#axs[1, 1].xscale('log')\n",
    "\n",
    "\n",
    "\n",
    "\n",
    "axs[1, 2].hist(N3_D0, bins=bins, alpha=1, color='k')\n",
    "\n",
    "#axs[1, 2].xscale('log')\n",
    "\n",
    "\n",
    "# Adjust the spacing between the subplots\n",
    "plt.subplots_adjust(hspace=0.5, wspace=0.3)\n",
    "\n",
    "fig.suptitle(\"Loss in different bottleneck\")\n",
    "\n",
    "\n",
    "\n",
    "# Show the plot\n",
    "plt.show()"
   ]
  },
  {
   "cell_type": "code",
   "execution_count": null,
   "id": "b0b9aae2",
   "metadata": {},
   "outputs": [],
   "source": []
  },
  {
   "cell_type": "code",
   "execution_count": null,
   "id": "119eb59d",
   "metadata": {},
   "outputs": [],
   "source": []
  }
 ],
 "metadata": {
  "kernelspec": {
   "display_name": "Python 3 (ipykernel)",
   "language": "python",
   "name": "python3"
  },
  "language_info": {
   "codemirror_mode": {
    "name": "ipython",
    "version": 3
   },
   "file_extension": ".py",
   "mimetype": "text/x-python",
   "name": "python",
   "nbconvert_exporter": "python",
   "pygments_lexer": "ipython3",
   "version": "3.9.13"
  }
 },
 "nbformat": 4,
 "nbformat_minor": 5
}
